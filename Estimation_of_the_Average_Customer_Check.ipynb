{
  "nbformat": 4,
  "nbformat_minor": 0,
  "metadata": {
    "colab": {
      "provenance": [],
      "include_colab_link": true
    },
    "kernelspec": {
      "name": "python3",
      "display_name": "Python 3"
    },
    "language_info": {
      "name": "python"
    }
  },
  "cells": [
    {
      "cell_type": "markdown",
      "metadata": {
        "id": "view-in-github",
        "colab_type": "text"
      },
      "source": [
        "<a href=\"https://colab.research.google.com/github/hannamakarova/Andvanced-Analytics-Prediction-Models/blob/main/Estimation_of_the_Average_Customer_Check.ipynb\" target=\"_parent\"><img src=\"https://colab.research.google.com/assets/colab-badge.svg\" alt=\"Open In Colab\"/></a>"
      ]
    },
    {
      "cell_type": "markdown",
      "source": [
        "# Multiple linear regression\n",
        "\n",
        "An online store owner wants to understand what factors affect the average customer check (target variable). To do this, you can build a multivariate linear regression model that predicts the average customer check based on several explanatory variables.\n",
        "\n",
        "Data description:\n",
        "\n",
        "Target variable ( y ): Average customer check (UAH).\n",
        "\n",
        "Explanatory variables:\n",
        "\n",
        "x1 : Number of items in the cart.\n",
        "x2 : Average unit price of the item (UAH).\n",
        "x3 : Percentage of discount applied to the order (%).\n",
        "x4 : Time spent on the site before placing the order (minutes)."
      ],
      "metadata": {
        "id": "2_smcuK7WIaE"
      }
    },
    {
      "cell_type": "code",
      "source": [
        "import pandas as pd\n",
        "\n",
        "# x1: Number of items in the cart (Items_in_Cart)\n",
        "num_items = [4, 8, 3, 7, 2, 6, 1, 5, 9, 2, 8, 4, 7, 3, 6, 2, 5, 9, 1, 4,\n",
        "             7, 6, 3, 8, 2, 5, 4, 9, 7, 2, 6, 3, 8, 5, 1, 7, 9, 4, 6, 2]\n",
        "\n",
        "# x2: Average price per item in the cart (in UAH) (Average_Item_Price)\n",
        "avg_price = [150.8, 230.5, 175.2, 310.1, 200.0, 320.4, 120.5, 270.6, 450.2, 210.7,\n",
        "             180.5, 350.1, 290.3, 410.5, 250.8, 280.7, 300.5, 490.1, 130.2, 260.5,\n",
        "             340.8, 220.1, 170.5, 310.3, 180.6, 260.4, 300.9, 420.7, 290.5, 200.1,\n",
        "             310.6, 150.5, 370.2, 280.5, 180.1, 400.7, 430.6, 270.5, 320.2, 150.6]\n",
        "\n",
        "# x3: Discount percentage applied to the order (Discount_Percentage)\n",
        "discount = [5.0, 10.5, 15.0, 8.5, 12.0, 20.0, 7.0, 14.0, 25.0, 6.5,\n",
        "            9.0, 11.5, 22.0, 18.0, 10.0, 5.5, 16.0, 24.0, 13.0, 8.0,\n",
        "            15.5, 17.0, 9.5, 19.0, 21.0, 7.5, 14.5, 25.0, 11.0, 10.0,\n",
        "            20.5, 6.0, 13.5, 18.5, 8.5, 22.5, 24.5, 12.5, 14.0, 10.5]\n",
        "\n",
        "# x4: Time spent on the website before placing the order (in minutes) (Time_on_Site)\n",
        "time_spent = [25.0, 35.5, 28.0, 40.5, 22.0, 50.0, 18.5, 33.0, 48.5, 30.0,\n",
        "              27.5, 38.0, 44.5, 39.0, 31.5, 29.0, 34.5, 49.0, 24.0, 32.0,\n",
        "              37.5, 41.0, 26.0, 42.5, 23.5, 36.0, 30.5, 47.0, 29.5, 34.0,\n",
        "              40.0, 28.5, 39.5, 43.0, 25.5, 45.5, 46.5, 30.0, 33.5, 27.0]\n",
        "\n",
        "# y: Average order value (in UAH) (Average_Check)\n",
        "avg_order = [950, 1780, 1120, 2250, 870, 2000, 650, 1600, 3200, 1050,\n",
        "             1250, 2500, 2100, 2800, 1800, 1650, 1900, 3400, 750, 1550,\n",
        "             2300, 1850, 1150, 2400, 890, 1700, 1950, 3100, 2200, 1450,\n",
        "             2000, 950, 2500, 1750, 1250, 2850, 3300, 1550, 2100, 950]\n",
        "\n",
        "data = pd.DataFrame({'avg_order': avg_order,\n",
        "                     'num_items': num_items,\n",
        "                     'avg_price': avg_price,\n",
        "                     'discount': discount,\n",
        "                     'time_spent': time_spent\n",
        "                     })"
      ],
      "metadata": {
        "id": "XgvyzkWcWYVd"
      },
      "execution_count": null,
      "outputs": []
    },
    {
      "cell_type": "code",
      "source": [
        "from sklearn.linear_model import LinearRegression\n",
        "from sklearn.model_selection import train_test_split\n",
        "from sklearn.metrics import mean_absolute_error, mean_squared_error, r2_score\n",
        "\n",
        "X = data[[\"num_items\", \"avg_price\", \"discount\", \"time_spent\"]]\n",
        "y = data[\"avg_order\"]\n",
        "#splitting data\n",
        "X_train, X_test, y_train, y_test = train_test_split(X, y, test_size=0.3, random_state=2024)\n",
        "# training model\n",
        "model = LinearRegression()\n",
        "model.fit(X_train, y_train)\n",
        "\n",
        "#prediction\n",
        "y_pred = model.predict(X_test)\n",
        "\n",
        "# model evaluation\n",
        "mae = mean_absolute_error(y_test, y_pred)\n",
        "mse = mean_squared_error(y_test, y_pred)\n",
        "r2 = r2_score(y_test, y_pred)\n",
        "\n",
        "print(\"MAE:\", mae)\n",
        "print(\"MSE:\", mse)\n",
        "print(\"R2:\", r2)\n",
        "\n",
        "\n",
        "# get w_0\n",
        "print(\"w_0:\", model.intercept_)\n",
        "\n",
        "# get coefficients\n",
        "print(\"coefficients:\", model.coef_)\n",
        "\n",
        "\n",
        "\n"
      ],
      "metadata": {
        "id": "s8J8wbW3EN5l"
      },
      "execution_count": null,
      "outputs": []
    },
    {
      "cell_type": "code",
      "source": [
        "feature_importance = model.coef_\n",
        "\n",
        "import matplotlib.pyplot as plt\n",
        "\n",
        "plt.figure(figsize=(10, 5))\n",
        "plt.bar( range(len(feature_importance)),feature_importance,\n",
        "        tick_label=[\"num_items\", \"avg_price\", \"discount\", \"time_spent\"])\n",
        "plt.title(\"Feature Importance in Linear Regression Model\")\n",
        "plt.xlabel(\"Feature\")\n",
        "plt.ylabel(\"Coefficient Value\")\n",
        "plt.show()"
      ],
      "metadata": {
        "id": "iwJxc4y9Q9JP"
      },
      "execution_count": null,
      "outputs": []
    },
    {
      "cell_type": "markdown",
      "source": [
        "**Model Performance Metrics**\n",
        "\n",
        "MAE (Mean Absolute Error) (172.39 uan):\n",
        "* On average, model’s predictions are off by about 172 uan. This is the typical size of the prediction error.\n",
        "\n",
        "MSE (Mean Squared Error) (40,008.71 uan²):\n",
        "* Indicates some large individual errors exist (because of squaring). Possibly some customers have unusual spending behavior.\n",
        "\n",
        "R² (R-squared) (0.899):\n",
        "* About 89.9% of the variation in customer check size is explained by the four variables above.\n",
        "That’s very good — your model captures almost all relevant patterns."
      ],
      "metadata": {
        "id": "ZfsttWDdGwvV"
      }
    },
    {
      "cell_type": "code",
      "source": [],
      "metadata": {
        "id": "dmIDA189IZ5b"
      },
      "execution_count": null,
      "outputs": []
    },
    {
      "cell_type": "markdown",
      "source": [
        "Model Summary (Context: Online Store)\n",
        "💡 Regression Equation:\n",
        "𝑦\n",
        "^\n",
        "=\n",
        "−\n",
        "227.66\n",
        "+\n",
        "48.27\n",
        "𝑥\n",
        "1\n",
        "+\n",
        "6.98\n",
        "𝑥\n",
        "2\n",
        "−\n",
        "2.31\n",
        "𝑥\n",
        "3\n",
        "−\n",
        "1.88\n",
        "𝑥\n",
        "4\n",
        "y\n",
        "^\n",
        "​\n",
        " =−227.66+48.27x\n",
        "1\n",
        "​\n",
        " +6.98x\n",
        "2\n",
        "​\n",
        " −2.31x\n",
        "3\n",
        "​\n",
        " −1.88x\n",
        "4\n",
        "​\n",
        "\n",
        "Where:\n",
        "\n",
        "𝑦\n",
        "y — Predicted average check (грн)\n",
        "\n",
        "𝑥\n",
        "1\n",
        "x\n",
        "1\n",
        "​\n",
        "  — Number of items in cart\n",
        "\n",
        "𝑥\n",
        "2\n",
        "x\n",
        "2\n",
        "​\n",
        "  — Average price per item (грн)\n",
        "\n",
        "𝑥\n",
        "3\n",
        "x\n",
        "3\n",
        "​\n",
        "  — Discount percentage (%)\n",
        "\n",
        "𝑥\n",
        "4\n",
        "x\n",
        "4\n",
        "​\n",
        "  — Time spent on website before purchase (minutes)\n",
        "  "
      ],
      "metadata": {
        "id": "FUepUes2JY-C"
      }
    },
    {
      "cell_type": "markdown",
      "source": [
        "![image.png](\n",
        "  \n",
        ")![image.png](data:image/png;base64,iVBORw0KGgoAAAANSUhEUgAAA3gAAAH6CAYAAABVie60AAAAAXNSR0IArs4c6QAAAARnQU1BAACxjwv8YQUAAAAJcEhZcwAAEnQAABJ0Ad5mH3gAAMiYSURBVHhe7P0NYFTVnT/+v9W0TkvJUC0ZW4mxlhCxhOCWBHQhs0oIyzaJWhJwS5paovEhCX4riRZjtq1p2i2JrhDoSpQtpOm/mtBaEr/yzUBbJ3WxBFcNVMrAX0qkbBmqbcaVZZTo/Z1z75mZO5OZPE5CGN4vvcyde+/cuc85nzlPF2kCiIiIiIiI6Lx3sXolIiIiIiKi8xwDPCIiIiIiohjBAI+IiIiIiChGMMAjIiIiIiKKEQzwiIiIiIiIYgQDPCIiIiIiohjBAI+IiIiIiChGMMAjIiIiIiKKEQzwiIiIiIiIYgQDPCIiIiIiohjBAI+IiIiIiChGMMAjIiIiIiKKEQzwiIiIiIiIYgQDPCIiIiIiohjBAI+IiIiIiChGMMAjIiIiIiKKEQzwiIiIiIiIYgQDPCIiIiIiohjBAI+IiIiIiChGMMAjIiIiIiKKEQzwiIiIiIiIYgQDPCIiIiIiohhxkSao8aj684m/4H/P/K96Z3j//fcRd8kl0HAR4uIuUVP78/ztf2D99GT1znDJRZfgc59LwMc/8XE1hYiIiIiIiMyiHuAd7D6Kj3/8IlwcF6emBJxyu8W8j2PKpz+tpoR3/PhxXHbZZZg0aZL+/iIxXHzxxfjYxz4mAr2LMXnKJ/HJyZ/U5xEREREREZEhqkU0j7qO48x77+HsBx+h7/3+A0QoqX2ohZ1nHqS+s2LwTfN+hA/7NDF8hIsuugin33tfX4aIiIiIiIgCohrg/cX9NmR+oCZjuXCDyisMO880GAsF3n8kx0WAp4kAr08MH33oW4iAHjTMj0d8vDEU71STR+toA9LVOuPj09FwVE0nIpqIBnlmeQ42oWZ1GWqe64FXTSMiIopFUQ3wzvb1qbHIhlQgVCxzxAOUv/Q+7tsLfbjrZQ13i6HHI4K8Dz5UC45QUELAGFJrXWrmULjRuCj48/HzG0SoRcG8cL8mElUrFiI5MeR4JSYjPacMDb9xq2UpJnkcKFbnPrHEAXFbR+Q97ERjbT4WzkxGgvlaSUhG8txclK1vg2ugFdA55T3sQMNaef4SA+dODAnJyVi4ogZNr7nPXWDlbkLh/DLUbW1C3ddTUdB8vj13LsxnqWv9QrWfiah4WU0kIqJBRTXA0z6KXs7aL944Dc/FFrz3ycv04Wz85fjAehme+f+/L4LEoUSJw9Oz/ik4B49PDQcb0bBPjVN4J9pQNjcByXaRqNrZDXdowtzjhquzCVVrWxgYx6weNOTlo1Wee2sJfv6jbFiNGcHe6ULDMhHUiSCu4ocOdJ8ICQS8brhF8NdUXYh1e9Q0mjg8vvOXj6pN8vwF3+xetxvdO+tQZpfLlKHthJoxnk57cFKNSiffOY/y8C7gZ2nK/c9jy1I55kHj8mI4+AMPEdGQjG83CTIuu0g2mTKws2c/xKRL+vTGVXzDJRdfhI/FXYxpn5BLDL6OYfM2oX2IiUfn08ytG5DMtZlfiKbD6r0UZ4XtSpt/sPZvg4dijHtrGapek2NWlLTUIyPMOffsq0FWchaqdvXPfbDY5LUSNiScQGTOisPIeRT7MaGKMp92wflMA8py0pG42qEmRtnhJuTOCnP+1P3e7z4XyxemiuNkfjaMh2uKUHuHzRifUY76O5KM8YluNM/SPq8I/FrRsDoX6YllGKMrYIxZUfD4RtjlqKcVxWsd5y4XmIjoPBLVAE82gCIz116J68Buyzr/8PKnn8Bbn3SKIO0SfRjM2ff78OGHH+nxoHnQidjuIhHsRY1MROojXjRubh38j0efE+3NaimLxXilIM7vFhq5Njor8n50AKf+ehxH/nDEPxz/6ykccW5E0exL1XIUU0478PCDTmN86eOovsEYDXK4ATmL6tBlyjm3La7E9t8dx6l338WpI/JaOY535fgfXsLG0gxcMeF+GOjEw/Z8I+exX9bKudXzdCFyS6rQ1OmCZyxSxTL4WFQGp2m3bYtr0f6HU3hX3e/H/yrO3fF9aL4jRS0h9HWhatF458ZYkb3hiH4tvftKLewT/XcDZVTP0reeQmFOMaq2OuHynFETz0NXFqH+ISMg9zSvQd1BfZSIiAYQ1QDP4/Hgv/98En+++Chsn3jfP1wZ/wG0Ka/jIxH9ycDtgw/eH3A4c+YsPuoLX8+uT0w/879R/GN10xIsUaNob0LLINUYvL98Co0qsZS3ONMYIZOuQAAs2O7/OZoLk9A/FLbAdn0RNjaW4Dz5LZ2Gwd28Dq36ZWBBSWmBSJqGEIn8ikVV6FZvIa6Ckp+LhOvPq5F9nbXf9WK5cjaKfrAbtYvVBDrnumqLTcEHkFazT5y/ctivDD57FmsK8jbsw/Gfmq4DTysKK5kbMzA+S31S/s+/IE8f60HDE7xuiIgGE9UA788n/xvv/O1U+DpyH8bh7Adn4fV68d57/zPgcPZsn94pup4dKOv1yUGOi+EDMf306f9RK42C/UmYfafvT6YTTb8cKMJzo+nf29R4AYpuP09+Bh5Xvfib6a/vlM+oYlF0AXGhsaHLGL2qHHeF+R3EveVhNPqDAwsKfvoS6hfzfjpvnGjEw08Gojvr7dvx/P2mXLowrLlb8PN7AufY+8w6NJ2L+njnDT5L/SbJv7fGqPeZJrSfNsaJiCi8qAZ4KTOuReK0a8IWobz44ktw6aUWfGrSp3DZZZ8ZcPhYXBwsYtmLRGB30YfGYAR64jk/6ZO44nOfU2uNBguW3Fnu/+Wzq6FRJE8jMDWuYrmzCNlDLS522gXH+jLkzg1uHTBx5kLk17bBNdgfK28P2mQdH1PraYlzc1HVPoxW097Zj6a1si5GYB3xienIXduGnqj+HHoFrjalQ1w/a4FrqI3XCI6SwPalr49Q03FncWAfQlsvDddUuseFptULkZygpiek6vvtNm2X5+VGFMtGIHyfFcemcH0XPGG23byN8SVGzRb3b2pQODfQemCivRiN+0zZG/IcBh1/o9GEtqORDr5qNW+V+Exygn+9xueK0bArfFPv/bfNC9fmQqSqfc/aLI7WwRqk+teXjBq9nlx45vVlbR7i9XbUgba3jFFbwS3on+w3BYDS0k14PHc0wV2EFgYTjNYFGzsjtd7oQLFvWTHoXYz0edC1uRgLTcdcP5cvm86l5L8G89GqJsn9qpoTWF/Y63fI96EHbatM5z2xIqgoq497a65pmTI4Tge6TUmtNj3JnskPLBdf7K+P5dlZhuTLxLSEhajqDNnHAbifb0HgDGag+tsRGtAJkXF/tVjapwtPbQ8co5716YFtVPe192gbqmQdQrmNcrq6d4f/zApzrk3C3dP9nwkLUbw5/DPBT1w/+5urxLPe1JLoZYniOqwa4F6PZGTPUv9xnFNl+lvWinzf9oghXHc6Xre4NvVWbM2toIrnjWzBdrMT7gibP6RnjtkIj1H2bQVqrA3P7hz2BUBEdEEZk0ZWNFyED8WqfYN8HyZPLyJjWZVr58vBk53hyTWJl4uH0FDLsFy3HMuvUuNvNeCpCM0xu57ztVKWhPI77eg5vF9/NxB3exlSP5uO/OomOA8HJzQ9J7rh+GEh0j+biopIiSvZiEFyKgplHR/TIp7DTjSsTMbC9d0REq8BHrENyZ9fgLJNsi6GmiiJwMe5Sfwh/lw0Gz2YjaIyU5JeBBPp8wcKZMaWt6cVhbPSUba1O5BAEcGW3O/kRQ16gsklEsmzllSg1dyMuzg2bdVZSMxvwsBhzUl0fVcEFrfUoe1w4OB6XmtFxaJZIiElpnmcqJgvzmHQ8TeCksI5qagKc705VxsBYN128ZmglJX8XCuqlqUi9b6Bux3QE1rrFyO9MpAg1utima93mSvdFuE6Pt2KpmfUuEiWL88ZWg6Cu9OhEpYW3JI9Wx8LYgoApYI7whThHCrZguOtyeFbGPQarQtW5Ij5tzYNnjjuc6FhSSKyKlvRbTrm+rlcos7lKAzvPrQi7982IVu9g6cRpZtCEsrmeo5i+aL/qEf2JPV2SByoWiGub3lcvN1oeLBpiI1HedH5a1OAnlmEW65U44O5cgluuV6NC67uQCHdUG4RfKbOKUSDrEPoO3fq3k1dYty7Y0PcN5vEvd/vmdCN1soszIp0373ThjIRHC24r0E8601LiIDG1dkg7vUEZG0aTnc84/Us9aBrfS6Sk8W1qbdiG3QTGS3YVsr5ucGNvYQV4ZnjM5pjlPmP/vvB8etONUZEROGMSYD3kVhtHy7xDx+JAE9O0yM3I3obmIrtZFCn5+LJQZOD8eGLo9nIii4FJeW+35W9aGr1JZpM+px4yveLfHo5Sq4zRgfi2VmMuStNiaY4G+z5RSi6QwxL00x1KXrQmJPTP8gSCbiy0EYMMguMz+fbYYsDuqsLUTNApXO5DbPENviClJTba7FlWzOaG2tRMENN1Bs9CJ9DMBJJpc2oNSXi9JbzxB/uZPkL7eFoJ04G0oMNRcVoO+077tlIM1dgea0KFauLkb/aCU9cCrLlcQ1d5tcVqBsoLbGzCsse64ZldrZ+XgoyzUGQB60lD6CsJBeNR8W5u8E4d8HLuNHwSGO/IPJ9dZjkeisfF+dLnrNt9Si/IfBZd3MxagbqG8rTgprqcAlo8/Uu17MD4UI8784d8BVIRu7dKBpiIr67y3f/ZGJemPgOrtdNOQt22P9OjQ6XDMjyslD168AN4jsPRSJotJu21/PrMmQNEhA77hPr2me6x4LuUXEuv/4AHL7c9tn3q3NSbsqRsqGgzneumlG/NHCuRnQfWguwaYPefqDOVfto4PuF/fVrVD1HsWjhFtQvlltrQ/YP1Pfnm66zG8r929W87X6kqclB3usNBDMD6sGxN9WoYEufoxqqGookpJizdA/2hA8qj67DMhl8WtLUfRl8PuW9Wxga8EbLzlJkrRUB7JV2FOjfHfxM8DxTiAdCc5BkgzMiGG3yneAZBahtlMd6C2pvD+xw19qsYfXnNpJnqW1pvXGe6wpM5yUD5f7z34z7Tfela30OsqrFM1C9h/+YhzyrPE7x92iQxnEiPnOE0R6jSbMxz3evvOoKf90QEZFBi6LOXb/THM//p/a9Nx7SfvxWmX94vne19n9PPaLtffF17bWXD2qHuo8NOGz/SYf2tX99UZv3xGFt/uaT+mD/yV+1f/zFe1r988e0v5zwqG8coTc3aHMnT9Ymy2HeBu2YnPZei7bSN23ySq3lPX1JvzOtK9W8ydqiJ0/q0449Mdc/zb8en/c6tFVTfeubrE37aot28qya59O7V3s0M7DM5Js3a8aaDYe+Nyswb/ICbd0bZ9Qc5cwhbZ3582JY9YKaJ4VsQ85T5rULZw9pG0yf9+2XznyMJs/VNryppg+V2LbNX5nuX7d5mP6VDdret9VyITruCiw394mgIxrwwqrA+kKPe9B2i2HqKm2H+bvO7NUe/qJpvhymrdI6etV8qXdH0HGbfG+HmmEwb6Mc5v7rIc18Znp/sixovhwWPHFIzTUcqjddO+LcbuhRM5SOR1Zq294MOd+6Xq1leWC9Uyv3qumG0G2bPHmWVvoLsX2h117Q9T5de/RVNd3vjNbyVd/8qdoap5o8qGOBa2r6o1q3mmoWdN9MFsdeTR+u4PUs0B7tMp9Ew0lx307zLxO6H+L+8M+TwywxP3gdveJaC3w+5P7SmdcR4T4ZzX1oPp5imPUddUT/tE3LUdP6Xb9K0PG5K/xRPtm6Spv+aTF/6gLt4ZB9jyz4uEW8TyOI9NwMPp/i2v7yZu2Q+boNOU4D3/uh5yJ4m0PPY+h9M+ubL4o7zaRXfH6aaZmg43lGfH5qYJ7Y7tBn/aEnFgTmhzznBzXCZ2nw8Yhwn4U8Lxd8Z2/wfkt/Es8K075PFcfGbGjPnOgcox3fUPNH8dwgIroQjFEO3kUhOXiyqKZRTHMoGXj6Mh8BF8kcPFUHT+bi6cU0xf/RLqGpm1SAu/yNrYSW8Tc3rpKHuwsH/73a3drg/3Vd7+R5W4Ge4xbEmoHqf68MtHy27ym0+PvR6grkGAr2DdtReZ05a0mwpKDy/1dvykEIFrQN6fV4+s6Q7Y5LQfm3fPUaxDe2d/TLSRoxsW0lPz+C4x21yA75WveuKmR9PhUVuwb6KTg6Mmq+j7zL1RvJkoHVFYFcESn73x5HtrmMoDUP95eaNvqNAX4ttpSgfk2KKadH5qY8iBLzhKsqsak08Au1lHLPg4Hid+iGK6RUUnZNM4quCTnfOisylwa233vw0ADnzGi8ZONtYvtCr72g6z1MMc3T7djRrsYtRci9UY0Pxfvq9fIpIy96OaguNNSa8gHF/VGd3v/bbPlP4/Fc9QZeNDb7ap/1Z7lzI+ozg9dhXfoveNCUW7//8PDzDUZ3Hyah/Me1/hy3nseq0HTCg9YHymDkk1pR0Bhy/Q6DLX8Ljvz1Xbx76reoDdn3cysD39tcghTzdRtynHDQnBMcReKe3rjOHnztWrPxLxWme3i/6ZngbkHDM74TnIF6sd2hz/qU0mr4t3xfOzqG86Adw2dp15M1gWOYuRHbv53R/569sgBP/5vRhqXkfboJjoilPSI8c6J0jAI9E53Cyaj9sSIiij1RDfBkP3hS/wBPFdFU3j3xF5xe+x+4tOTH/iF+7bNAy0t6P3eSpslymjKo8w2+8NA3RJ/91iJ/Qt3x76a6Vyd2oMXfuMpdKBhCPZfuPYFinrY7i8J28qy7bjmKfMVOxJ9a56vqj+DRvXD6/h6KUKCoIOQvu8+Vdizxfz6YeRvSvrIkfDGqlDmBRjA6u0zN1keH9YZybD9yCkeerw8URdP1oHHZ6Os1DSwFS27qv9e2FHNAlo0VS/snbGd80VSIzRewhJOTCXu/c5uE2aaoWzY0Mjt0mUkpSDNt2pmwCSYvPAedaHuuETWry5BvT0ZycgKSV5uKEL/tiVyszlaO+wdovMT+tXL/NeFu3RGUWPbufNZfPDPp/rvC7GMkLrgG6afKYr1CjRm8IykaPNT7QyY4bzcFBb/ZG7Y4qpS7ODjwNyQhJVwx02EY9X14TTme/rZvrhNVt2ThAdVIhvX2LXg8zPU7tqbg0+bfHvoiXoFhud4wXWmRusG87hYsCVck2Hycxsqt2WGv96QZES6EV50q2Bauj7DdIjid4/+hwImuwatv9xP9Z2kP9nYGzl32HcsjFrW13Lo8EHyhE3sPqNFQkZ45UTpGKf7yvSfhYUuaREQRRTfAU3XjZKMqfZoI7tTw4UciwNPEPBWb/fXwcVz8tzP45EeX+ofJ+ATiZOVuX+wmYjrIvvB8AZ4e8Bkr+EgP9sZA5l0o9zU+sa8BjSqh6traoFqMs6Do1nCJwFA9cJn+OGX+3UApRJHQN9VB6jmhwkpzPSVbGlIiBpWW/rkzuuBt6F6bGmixzDwEtbQ2Vp3hWmDLLMGWV07hwLYi06/yHrSuKEXrGP6hDntsbEmBXFNYYQ1zbC2ThphojjOndH1suMLU0OuUKeHWZcUUc85iCNk4z8KEBCTOz0Xh1ytQt7UJjtfccEdqyi6cm+ZhwNjk+uUo8jcu1IIWf2DmRXurL6crA+XmTqqHYLCryHalubeuTnRHSiwOxHx/zBD7OdCPLl80BQXuYyJpOJ6icx+m3L8FlepceQ67jPpSlgJsqhta65XRFfwDhkukxId+VYrjYYrv8MUU0714fgpqbOu1KlMLteYhFVWmHz7C/6AzFNF8lrrwun+bUjBvdrhnmRKXZgq+3DgW6SaK8MwZ32NERERjUkRTBngfXXSxf/hQBHfyWR0clhnBWvCg6KNGsczAIFvQFDNk4CeHMWFufKIHTa3ij5K5cZUIfXqNuTEt6jaeLEi6bSP2/cpULBVt4jizrI2Zr3GebpVq1hsOeUg2nLAdL/3+CI7/hylHalSCr/eW51TK+3Q7nvU1o56+fOgtJOrMv8JHIKKDwM8kbjT8xJQjSeHFJeHaL6pxn0s/jSuG1WpmtNgwJ92U17PzWbQMNfPoRAd2mLrlyL75XDxQY8GF+Sx1n/AVjBXBaNgfNomISIpqgHespwd/+YsbH4lAzNxNQp92Mc6K2Ex2dH7mf7348IP3RQz3kRj6TIP498M+vOv5H/H5j/DB+2eh+fu/k7l3ctDE50/j1Km/qG+MPlvh3fDVNnBvaoJzTzuaVEI7o7wkkBMwoCQkmRK5na+afr3sx4XuV9WoMPsa9ed6yqflnzDDwdfRHfHXTDd6/PX2zIK3wV53AEeOHBlkeBzjktySOUemIkYng9rRHpz39FgW6zzXXNhQ2epv0S77R8dx6qXt2FhVgrzbsjH7KhsuDbR3N2rm671H9rMlXt2tTf5+0vLuLYpYbGtQ7/SG31LbEhTcrMYF79OPDL+bji9cG7gXD+/F/oFyLt4w5/ZdO845RtG5D91bC/19l1mt6uceTyOWPWzqrmAczS4oMh1HB6pqh7YdXetrTP3n5WHF0gFyjc4TSdeY8qwy63Eg7DkNHh6/SS0/WqN6libhWv9nXdi7f4DP9nUH5fZd+wU1OkTROka9vb5tnIEUf1cvREQUKro5eCoTTgZ1Z7U4//DBR5fg7Efiq+R8MciMOO2ij/DRRR/6B72DO32m8SIX8ufcySKZchDTtI9UUc+xMikXt/gaZfDuQMWDTar4kR1Ftw49qZuWFggFZf2m/ZECtKMOtPgTt3bYfRkq4g/iPDUKtGPHrgh/fDtb/AFoKPM27HUdg81mG2SwBoLKsdTXg0OREvSmX2Vde7rCFP3yov25yA1lnPdO70e3v4+4FNhv7J93u3dPFPuAMje2ohfTdKNju8pRs5TgrluHe0WY6qy5j+FY2OvehqKHSky50t2oWlSI1hPq7VBck2YqCubAsxHrH3nhaPe1FiN26Wb7EH+kiZ5R34dHG/SuPHSyWObvtqBALeB5ctmwmt2PmutW41+WqnFBbkdx+8A/PHjai7HsycAySWseHFJ95gnPXAS46zCOXR7unAYP1mg9aAd6lg4quHqAo7U94k9H3l07xF8hxSL+TgXVARyCqBwjU3Hncf+hhojo/BLVAO/qq5MwdaoIgi6SjarIxlWMQebgfXjRxfjYxz4GyyctiLv04yJGC83B+wgXX3IR4qdMFh+/GHGXxIl4TpbFNCI+TQR3su5dnOVSfPryT+vfNzYsKLi7RCWw3HAdVCFGbhGWDyMrIym/PFAM7a06fPm+tkBnvT5eF+q+Yap7Y/4O2xLkpqtxkUhtLSlF2zvqrc87bShe2RgmCDIkifX5/qh6ny5E4fYIxXe8PWi7r86fazM6DlQtqUKT7CA4XOJefFfT14vRqt7K423PCPypTssw1XHcua5fzo5nZykeCKTXY897Z0xtuvSg509qVPEerMMjT0c64yNjL/A1LiSug611aFXxo6UwdxiNqwSkpPkaqBmgft0N1dhyuyl49YhreWYy8msdcPXLjfPC89Z+NK3NQtUuNSkuG3ffE/i8Y1UO6nz3qomnvRTF/tb7klB+h6nyWNT1P1/SqO5D2defeEb4Gl2xr/s+8q7MxvfX+e4TDxqXD6EPyzePBRqNMvHsLEPyZfGIT1iIqs6BA7RgVhQ8vtFU1NaD1pWJSF/dBldILpLXLc7d6nQkrgzkTMuWhbdUhautdR66Jg9FvlxabyMKv95qdB7fjxc9z5WhzncND2p0z9JgPTgW5geU7G+YfmjZWYycx1z9/56IvzOlJa3+6bLRpWHfRdE4Rqe74PTlIs5OCQSMRETUz5jUwZMtZp696BL/8IEI8s7265EhOMDzBXI+MrTTs/oUPcDr0/Dhh7LBlrHMwhPMja3oLCi5u0AlgofoyiJs/EGgJUbZOW7i51KRu6oMZavFsCoXyZ9LR42vPoq1ANt/ZP4OG0q+Z/rj62lF4ecTsHCF+vyKhUj4fKH44z7Ar6nXlGOTPxHsQduqZMTPzEVxbSPanmtD2zMNqJLrSUhFYfMhtdzonXy5AWX2ZCSIhGOiSLQn2/P17U2emSgSkqkoM//Sv3QTqm9Q44JtcYEp0ehCzdxkZKljVpyTjMQVrZhyVQz/dmubhwz/tedF463pKF7fKs5XKxpWZyF1fg1cgbbCo+OGwPXuerJRtXYngqE7TcH2MCTdmK2KdbrR1hmpWwErsn+0GxtvNgV5YnnHD/OR/lkRcFyWKK4Xo9XQ+PgEJM5agLJNXThpShRmfHsLivwf70bNfLGcvNbk/SGG/AXivSmoSKvZjmpTccnouAJX+3/4Mc5Xvv79+SjerPZ9FPeha9OdqPI9I66qRK3qosV2x0bU+vYlQlHNoMZs9lVgwZJi4z4SQYMRRIoAQnYmLo+ptxsNDzaJMGAYxDOu9XfVQZ2mu7YWIj1RnLMEce7E+UsUz4CEZHHutppaVrHmYcvv6iO3LHzeEffKvwWe1TKnMlnsf+6qGjTK8yvv3bX5eqNJqV9vwqGwgU14o3mWwnaFKZerCxX/kIVieW2uMv1QcsP3sKUwcA92fzcdCYkL1TUsBt/fGd/XXF+L7Q+NJLSKwjH6r73wlV2wZwbKtxARUX9jFOBBD+h8w/sfySBP9X+gGDl4H/oHOUX+56PpRTM/0htW0RtX+VAs39eHD/WuE8Y4wIO58QnBUoTlI6icllT6W+zbYOpPydsD5/YmNG0Vw3Zn4BdMm0zwbOnfl9UN9dj9A/NvpV5071Sf39kt3qWh9lf1yB4goZTx/d+j2dxv3wknWn9YgcKvF6KwpAoN+nqEuE9EbLF8NDwn3HC/5tC31y1bSTWxLd6IfT8tCBwfSSQa62vMSUY3utQxa+10GwmMoGMSa1Kwus50TPpcaK0uFuerGFVbu+BOr8XTD0U7wA253qX0cpSMNBi6/hYUqUvO9bO2yEFDXAqKfvl77K7xBYQmfR5xvQzSauikbGz8fTtKrlHvBY+81uT9IVsdNdUpynhoN56/fyx+85+Nov9jul7F+XLo3++AuUrTiO7Dw3UorPbl3VlR8lS1qbuNkARzmKKalqUlpgBY3Ekvtxr30csRmkB8r9fYhmGwXFeJ3/6hOagemM4rzp04f6GlFmyLa7H7980oGFbDPecB8az+/U9N9VX73OJZX4cKeX7lvbvJ4W806RMj/H1m2M/SSbkoMQVvcHehVV6b280/lFiQ/aPfo/0e0zPF062uYTH4rkspvRK728qD+yYcjlEeI+cvA9UlCpb2e2IQEZHJmAR4slPzPnzMP7yvxemDnvEmBiOQEwHbRX2BQU7T6+EZy8iQD5r4V29cRQZ1H+Gjvg/RJwK9Mc/BE2w5y/3FUEZUJEVJuaMdR468hI2ldqTYTH+14qywXZ+Nyh+9hOMigRQpwZNSuhvHX9qI8sykQO6exYa020Xw98ffonzGIKkF8T15Pzqi1pEC8ybI9fi24ch/m4tbjUY2Nr3SjvqHipB9vVh/UIrDAtuVacguFUHaK6dw5OfmZr4DUu7/LY531KPgetOHrSnIqxHH4lejSGCcJ6xLt+D3InAvEMfPf7qsaSioE/vfUY60Mdh/c2MrUsbyW/oHXUM2G8vvUAnGg41oMrWa2J8VGfdvx5E/78P2miLYZ9hgDdq/wDXT7DyCTaZ6XzqrHfXiWtr381r9eJk/a7GlwH6HuNZeP4XdVWE6cI6SpNJdepP1aeabS1yv864yvR/ufdi3HzVfMXVCvfTx4NwZ6YZqPO4/HmGKasoA+PXdqM1NMR0XcTyvvxZGT4TZqP6PAqPDaUsayn+0emTF3q7Mw0Z5Pzs3onJpGmxBOycORdA9X46MsToR55g1dyOO/DHMs953DT+0ES8dOYWNQ25gZbTPUhG8bZA/oOQhxfRZiy0N1wb9vbHCvu4ATr2yHbW3i/Nn/h5xbaZkFqH252L+r6pHfe5GfIxOt+IpX9H0YVaXICK6EF2kybKPUbLnxVdw+vT7eOHzv0bcpwK15z8VJ8I8EeDd9Ieb8XHLx/GX/zqIy1t2wfbhx9QS4sH/mUS4p8bho//zFRx47QiedWk4cdFkxE2+TJ9/8cfjcInlY5gffwZ3i78ySSmf1acTURScaELuzDJVPDMPW/7cPLoGMESCrPCzxUZn6SJgPf5sSO4CEdEQ9axPR2q1/LkjCZXOA6i+3phOREThRTUH75Of/IT4Vxa4vAhnL4rzD17tY2K4RO8m4YMPPsDFmvyZWRbZlF9vDDJ37qMP+uD1evGhLI75kViLHMS4Poj52vvy8x/ig7MfiM8QUbR0ra9SwR1gufOu0bduOKkAtb46qDsfQM25aOmRiM5/nlas0YM78WzKr8VqBndERIOKaoCXMusLiNM+rndb98HZj/zD/4p47IyI6d772wd476/v4+Mfyq+VGYeytp4xvP/+/+Kj/z2DM++exfv/04ePPtREYPch8KH4oBi0s2dFgPeBHuB97OMfF58homiQLXOu8Tdfn4Tyr0WnsG7S3U+jVk+MedB4V03krkKIiMLyoO2bpUajQNYCNP9bHksCEBENQVQDvE980oJ5/5CGuA8vxUXvfxgYPhDBmfcjnO7tw/+KIO/DvjhcbLkIH0wSgaBvuPg0PvqYCAQ9fTj7v8CnLr0EH7/4Ynzyoz59+IT2IT5x0UeYfeUncfUMFs8kGrkeNK7M1VvUky2TJsyv8TfDb71nS/SKP8WloLxtOwpkikzvKsThb9GSiGgwrvU5KNwu695ZUdD4eP+GyIiIKKyo1sEjovNBDxrmp6LK16eUYitsxisb8kIaOSEiIiKi80lUc/CI6PxwqamOnfX6Ar2VvAM/YnBHREREdL5jDh4REREREVGMYA4eERERERFRjGCAR0REREREFCMY4BEREREREcUIBnhEREREREQxggEeERERERFRjGCAR0REREREFCMY4BEREREREcUIBnhEREREREQxggEeERERERFRjGCAR0REREREFCMY4BEREREREcUIBnhEREREREQxggEeERERERFRjGCAR0REREREFCMY4BEREREREcUIBnhEREREREQxggEeERERERFRjGCAR0REREREFCMY4BEREREREcUIBnhEREREREQxggEeERERERFRjGCAR0REREREFCMY4BEREREREcUIBnhEREREREQxggEeERERERFRjGCAR0REREREFCMY4BEREREREcUIBnhEREREREQxggEeERERERFRjGCAR0REREREFCMY4BEREREREcUIBnhEREREREQx4iJNUONj608tQO9B4AM3cOkUYHIKcPk8YNJMtQARERERERGNxtgHeO+6gNfXAmf/BnzcAljigQQ78LFJwOluIP7vAFuhWpiIiIiIiIhGamwDvL/uBf5LBHeXiPFLLxXDp4BptwFTc8Q0Eeh9dFoss0VshQj8Li8xPkNEREREREQjMrZ18F7/tvgGET9+PE4Ed58EJk0WE93A+y7xKqZfPElMyxCjbwPvdugfGS1HSTzi48MMlyUiPacKTQc9aknS9bnQtDIdyXML0XRYTZsgIp5L31DiUEuerzxwrl2I5JkLUdXJ65KIiIiIRm/sAryjjcCHZ4BLxFfEfRywfMII8j4UAd7ZN4EPjhjLXSTmXSSW+d8u4COx/Fjp88DV2YCy+bNQvJOJab/fiGPS7oL7cBvK6s/3gOk881YTHtnUDfeJbjQ82IQeNZmIiIiIaKTGLsBz/1YEd5eI4E4MHxNB3McvFd8mvk4Gc2ePGgFe3wnx+gdjee0D4MxBYzwarqvFgXffxbtiOHX8CPZtK0KSPsOD1hWlaD2tv6Ebi1A+Q47YUHTbPH3ShDOjEruPHMGR0KEuUy0wgZ12obW2GLlzE1G2U03zuSoPdy226aMZX8tW1ycRERER0ciNXYD3/t/E2i8SAZ0Y4tTX9H0I/FlMP/W2mC8Cu//5pQj2jgMfiuBODh/8t7FclFmsNqTcthHP16SoKW1w7lGjF7pJGah9RQbCR7BxqVVNnGDipsBms/UfrBa1wATmdmDdD1vhPOxB//zpJBT9/Ij+I8TuUt+1SUREREQ0cmMX4Om5dSK404M88f5vXuBor3ivAaf/F+g+APSKgO6sSPaeFe/7xPwPzxqfHSNJM2arMeBMnxohIiIiIiKKEWMX4H1iqhHYSTLn7q8fiQjrE8CUjwG2ScCVVuCYLKL5nhhOG4Hex8RnxpBzV7sas8P+d2rUx9sDx/piLEwMNOKRaC9G48vh6+t5DjahzJ6MBLVswpxCNOzzoGd9uvp8MQI12nrQMF+tVzYMcrgJhTON9ws3mWpeDWcb3ulC4+pcpJuWTUheiPyt+9UCkhc9z9Ug37SdvsZmHG61iNjKYjUvfX3/WmDeo22oWbEQyQmB70mcm4uq5v3w9AuSQ9Z1og1VOan+75b70nRQBPJjpc+Drs2m4yf2deHqNvR4w+9j+HOl7CxW8+JRHFK00rO/qd8xkce+7LkeccR91HfOqYJsUkhqXeFb3vd9IddFKHE9tNXmY2Fygv974hPTkbu2CfvfUcv4hazLI66PkoVIvMyYljAnFzW7Qq6jo43IkvtwWRYaJlgDO0REREQ0MmMX4E39e72hTJ1XBHgWMXz0QSDH7mPi/fuyWKYvwBPDp9LUB6LL6+mBc30uCp82kt/We6pRZFR9MngcKEtNRX51K7pFGth6pQ3WODH5tVZULBFBwnpfEt3gEYn/WfPL0PSa25+gl4FQ1aIcPNqtJkTiaUPZojK0idhW8vqCpOFsw+EGZCVnoWKrEy6xrEUvrijW5e6GY89JtZAHjvtSkfr1OjjkdsZZYRPrtOiNzTjgGkIdRNemLD1wrdvZDbcpLvMcdqLhvgVIXNIAV6Sc0J5G5KaKoLczEPTIfSmbX4Amte9R1edCw6JEZFUax8+Y5kH31kKk5jdErwGTo+LYLygzjkmfPKZGsVZ57Ju+norFIdfKiMlz/LlUFP7Qge6gg++Cc1MZFojzHzEo63Ogaq64Pp7p9gfh3qNO1C2bhYqXjfdST/tT6JKr7utC086oHSEiIiIiOofGLsC7ehXwCRVFXSQivbMfiYSkCu5kUOd9VwSAYpovwLss1+gbL1oOViFV5XokJKYit9opQh4bsmt24/frMtRCkhtNK/PR5BZB1c312HfqXRz/wxEc/+sp7Pu2EXB2V1cEgpLTrShd0SrWJVjzsPGVU3odqndPHUH7GqB1+yAJ/J1NaLqmErv/aDQAs+9+2bTG8LbB8UQVumTC3VKAZrGeU7LBkePytR2VX7rUWOitJtQ0G9l0KVX7cOqvx3FErPOUXOePluMKETwO6OUKZK3t0ketN9ei/Yjazz/L/VSB+L4q5P8w/P66nm5A7/27xT6Iz4jvfEntByCCw+3DDCZM5zIwpKPhqJov9GwqRNVrxnjamnYcEcdQb2DnlY3I63bC2JPouOLmSmyX510/psfFud+H6uuNed3V6+DQg6psbJHH6/Va+GrXFTxrbNO7724RcwcgAq6KReocW+2ofV6cN/k5cRyPPF8J/UiKZaq+UuPPHQyyvRFNGRtxQD8G4jPbCmCEoR40/jiQU5i0tAgZshpjXAaKlrKJFyIiIqJYMHYBnvTF7wAfiSAuTubeiSDvr2eNnDoZ1PV4ReJVvJfjF00Sqebb1YfGilUksF/B9vszVGJXea0RNZ1yJBu120qQ4m+3w4KU+ytRoI870brLCJbcrU1o08eSUNnWjKIZ6gMWG+zf3o76dONtZCLh31aNjMvVW2mY2wBfrpn1Clxh2hmLzY7qu+3GG7GML98n6corxJqUOLHOQrHOq9T7sETAWdtoBLFXVeL/bi+H3abWMEnu5/PYstR427P+qfDB0+KNeP7b4ljLQFJ85+w1m1Cp4n1X92DZnMPVhYZaFeos3SK+1w7f5lpmFKH5pyWB/R+tq8rR/stqZPvOu2RJQWWFcZaA/XC9pUZHyN1cg0b94MtrrB3lmTZj+8VxtGVW4/n/UOHhWw14ypQj52crx89lq7H6h8RnbtuEx9X5wqvdgaBwRjl2yyDwr7tVS6pEREREdL4b2wBvUjKQ/ADwoQjuPiPCjf8Rqf0PReTxPyLg+5gI/Czvi0TrZ4CUH6oPRJGvm4RTB7AxV0ZBsnuEuSjbZSruJvTscciu1wUHykz12fThskK06vOAkx7jc91dTv0VtuW4ReXaBNiwJG+Q1hCXroC+OSbD3YbM7Dz9FW5ZjG8hite3Yb+5GJ90TTbyVBDnuC8RyTlVaOx0BYqEDqgbXXrAKfao4BbM7pfbZ0VugQoyvHuxN0xAk5JpDw6kMQPX+uo9HuwZXpHJsN0k7MZdviD1LbENavezC3JDvlfIzEauGh01eSy8buzfJYLy1WUozklH8sxExK/0naXRG/gaE0dfXEPG0fdi76thjuRNdmQEnTMR1F+nouvDh6JXXJWIiIiIJpyxDfCkhH8UCVWRvNZEkPcJEdS9fwlwRqQ+P/WBMf+ah8a2cRVLEoq27UatnlB2o2lVBRzm+mey9U5F1nuT9dTCDUmT1EK+AOnyKf0DiaGwWvvnJg1zGyz5zTjy0yKk6MFGN1qrC7EgOQHJyxrQ5at/hhRU/6fYb9XPmruzARUiGElISEdZu8oJHICvSf8pU8LvpWWSb7rY9iEFjRa56yMTtpsEcRx9QYwpt9I6KWp5dWF59tWIoDoZC5ZVoG5rE1r1Oo9XwJ4exSKOg11j4tj7j/6Qjr04LlOmqDEiIiIiimVjH+BJiUXARx8HLhGp0bPiK+Ugc/Cm3AB8chzKhsWloPyJSqMjaU8T1tSbW5r0KcCmA0f0emrhhu13hiTgRVAWCMsCPL29amwkhr4NttyN2HfqFPY9X4/yG1QQt6sKWXmmBkWsGSj/+RGcOvISmmsKjICwz4Wmlf1zMiMyBZ9m3tO+SPIKEVSp0Ykqwj4MXxfWfaVOrxtnWSqO/59l8UZZD28f2ivM9TqjJMI1BnHs/Uf/fOgLkIiIiIjGzfgEeHGfAialiCDvQxHcaUZ9PNlH3mU3qQXGwfWV+BdVTq/nsWJ/Ax2BvvFa0fRLf/ZXRFdc6Svq1gFnaGuQffuxo3Xw3LFQw90GP1mfLrMEtR1HsO/bqmjoay1oCykyabHNRt79W7Dvj80o0OMBD5qeU2Uww0qDPdMYc/24Bfv75RJ50N6qGuu4KgPz1CE5Z2xXGMG70L5LFW808fyyyV/MNbwevccOM9erYWoWHt0Lhzo9uXcUIcUU2Lrfil7Bx7QbVT3Kw01oUQ3HmHl2Pqu6WUhCRsa5PvhERERENJGMT4AnvOy6Cn86PQ29mI4PpszA6Uv/EX89M13NHQ8WFNT4WjR0oWqtaglz8d0oUeXdHKtyUNMZ6PpA5qDIoo351YGWB2cXFKlgogsVX66Aw1f37bQLTV//MupG0sDGMLehq7kBzqA6d2LcH4TZcIVswOWtNjQ8F1LnzjRuE0FRZDYsLy0wipK+VYcv55u+77Qbzu/m+PuGs1eU+FuJHDN9vXC73f2Hd9Q2TcrFChW8e58uRO7m/Wq/5bGrQU64PuaEpAy7Ki7bhZoHm/R2f/TP7KxA/g/DBGxx8ioyOJ5r83dB4Hm5BvmVg7fT2SWCz/59B/ZnKyhXgXgP6vJy0eC7HvRrQezPKrU/mZUouc4YHRH2g0dEREQUc8YtwDv01qX4zZH5+M3RdDiP34jDf56LM39TCfTxck056u9USfSdD6BGtkAYl4H6X9UaTc+jG3U55k7BE/TGSQKdggvXVeOnD6n8IpFAzvd1Qv3ZdJR1ZqP2/hGEO8Pcht7OKuTK770sEckzk5EolklXrUimiSC2QOYs9fWIgDMdCZfJTriTkSyX/3whWuUhtxZg0//x5RqGZ1n6OJ5X3SF4fq2+T9/PZOQ+ZrSCmXRPO5rvGIccpMN1yNL3IWT48lOqOKoI3n+0HQV6kOyBs3KBvt/x8fLY1QHfrlYtkYa4odzfvYGnvQypesfl4jMrnkXG7WE6MrhqOe5SOZueZwr14y6/J3FJI2aEW14yNXbT83Su6ng8TMfqZpOy8fj/Vd0heJyo8l0P+rVQJ64Q4ZoStP+0SITiI8d+8IiIiIhiz7gEeH/8wyFMuvQSJHzmSlz0YQJOHLsEx996H2//dZwDPMG+ph5GATgPGr9ZZ3TUPaMcv/3jbtTfnuZvXl+y2FJgv6Me7TUqVa/MrtqHA9uKkOZr6SLOirTb67H79S3IHmlbFsPYhpTsAqRdKb68zwP3CTc8fRbYri9A7c8PYJcvwLTNw/LMFH1dXj3HSxxrq1hX6Ua8JLfTt+0RWZHx7d/ieEc9ijKT/DlXMpiS31XfcRwH1oW2lHkOWbOx5fXdqM01bas1DUXb5DExAtX+klDeZhxzvTsHSX7mp69gy23h9swm5hnLG98hjulVeajt+H2E5aUUVHc0o+j6wHzLNVdjsMvEml5tXA932FV3BwaLLQ0Fdbtx/BVxHY/y4LMfPCIiIqLYc5EmqPExtfWJp/FxEU9+6lOfxJTLL8e0q6+G9dOfxuVXf0YtERvaVsWjcLsYkd00/K7cXzeMziUHiuPz9Xp4KTUHVOfyRERERESxZ1xy8I7+/hAsl3wMH7vkCpz68ydx6Pfv4cCrx/HeB6qrhFhxoglPyeBOsGTOY3BHRERERETjalwCvGtmXYubbvsnfO4Ln8UnLB/HlYk2TE9NQtKMz6klzic9aCwpRsMuF1S/46rxiwbk/0MZjDYcU1B9zxg0m09ERERERDSAcSuiGTt60DA/FVUH1dt+rLBv2I32O8a8bUkaMhbRJCIiIqILw7i1ohk7bMiuqET29bZAwxyS1Ya022ux/fUjDO6IiIiIiOicYA4eERERERFRjGAOHhERERERUYxggEdERERERBQjGOARERERERHFCAZ4REREREREMYIBHhERERERUYxggEdERERERBQjGOARERERERHFCAZ4REREREREMYIBHhERERERUYxggEdERERERBQjGOARERERERHFCAZ4REREREREMYIBHhERERERUYxggEdERERERBQjGOARERERERHFCAZ4REREREREMYIBHhERERERUYxggEdERERERBQjGOARERERERHFCAZ4REREREREMYIBHhERERERUYxggEdERERERBQjGOARERERERHFCAZ4REREREREMYIBHhERERERUYxggEdERERERBQjGOARERERERHFCAZ4REREREREMYIBHhERERERUYxggEdEAe+0oWGrS72hseb1uOE5rd5QVJ0Px5bnn4iIxgIDPCIynGhF4ZxCVK1Ox8LHXPCqyRekPjec64uxMDEe8fFySECyPR81z/UMeFw8B5tQlZOKBP0zYkhMR+7qRnS9oxYI4kV7STIS52ShuLYRbc+1DTA44RpBIODZH7w9CeL8NrzsUXMjeGc/mtbmIjVB7UNCKgrXd8HTp+afDw43YHFiMrKe7lETwvD2oM28n5clYmFJAxxHR3rle+BqrkLunARjfWJInJuLss2Rjt3Yn/9YMqJrORJx7h3m+1tc47lr29AzyKn3vNyIYnui//wmzMlFVfP+8+veGCsjfGYOqM+D/eZ7StyjxjrF36ehHHN5j9+Xivj7HGoCBfOi57kypF5WhtEeIe/RtpC/fQtRvN4x8D0V9WcwBdGIiFzbtJxpk7Vpt2zT9jrWaLMmT9YWfGev1qtmX1B6X9TWpE3Wpn/lUa3FeUg79mqHtvlbi7Rp4phMFoM8RofOqmVNDv04R5v26bla6VMdWnfPIe3Fn23QVor1yM9MnjxLW+MMPZqHtHVf8s0fbMjRtp1UHxuSXu3Fb83VPzu3fJvYnl6tt7dXO/SzlWI/ZmmPvqoWC9HrfFib+2nxfV8q1ba9ekz/TO8bLdrKqydrs77TrZaa6I5pGzKN4zb3iWNqWojeDq10ujzHG7QXe05qJ0+KoedFbcNXpovPTddKXxjmlX/2kLbtlmn6cdvs6NaOvfGi1vLESv0+0s9f2hrtxX6rHMvzH0tGdi1H9PYO/dxPnpajbXAeM879G9u0leL5N3naKq0jwqk/tHGRNlne3784ZHxGDId+UWrcLzdvCPtMuGCM8Jk5IHFPbbhZfN73LHrvjNYr7tFH1b0d9pif6RXnRTx7f9GibSjP0abLcyOXvatDLXChE8dQXrfOHeL5VKrlXKuOz2Rx3aslRqL3hVJxrKdry554UTum7o1jzg3aMnmfTS8Nf09F+xlM/TDAI7rQqeAuKKBT02ZVvniBBXm9WstykSARCYLQ/e59YVUgwVK5V01VXn1UJOYXaBtc6r2PTKT4EiQykf4nNV06u0NbpdY32LDgiUPqQ0PRq3XcJYKNyVO1ZT8xRQXv7dBWqgTP1NDtF3z7N3X5Nu2kP+F0RttRpLZj6hqt/6eG7+Qv1mhrfjF20cqxjQv8xy18gBf5HAeO3Uqt5T01aQi6vzNLm5wZJsHp2qAtUNsy+cviuKrJujE7/+dWd/0ybV3UfgsY2bUc0dm92hoZyE2epq3Zo6b56PewmBd6nqRI97ekzvGs750/5yi6RvjMHMSh74l7SiT0l20M+aHxzQ3a3EjrFN+n3zPTpmsLlosARgYY8j0DPKXDeOZ8epo2PXOZVvplGUzJYzSKAK+3RVsm7qdV4QIyEcStkvfbV1vEXxKz6D+DqT8GeEQXut692ra2MImTtzu0HY4wD+1Y1qMS5NMWaA/3y3E7qW2WvyjrfxAXaZtNwVrHvXLaVG3WV8P8Uu1co03VPyMSo998UU0U9ITKMm2b79dLMfQG/UFTf+jCJTgHcMZRaiSqbt4c/DnfvsntCE0YvdehleoJ3+D9MueGRSvAO/bE3Mg5a6MljukCkXiZNtXY5rDfo47DqhfU+1AiMT99oPn9iGOnH59Z2sof97+PXvzmVOP4ietjjVNNlMbo/J9rHXcN59gNbETX8gCMoEGeq3DXsi9HVZynkOBPv7/nbRB3Qzhn9MRq5PkxboTPzIGZnjv9zocKUiKeRx+xjnlqOQZ4YclnsXGMRx7gGT+oRf5893dkEBkyP+rPYAqHdfCILnTWDBTlpqg3JpdnI2+xVb25QLzxOrrlq6cbDcUbsF+f6GPDkjzfcerC3lfVKHrg0se96GkvQ9UvQ+oPZGYjV416O7vgb8LG9TpcmXlYcpUNNpsxWCepeYJn5wMo3pmN7T8tEt88VC7UfbMJsmZS9r0hn7uqCI/VlaOotB7PV2WoiQbXE2vQJD+09G4UXWlMMyShqL4e5XeUo/7/ViP4UxNNDxq+UYUpjzfjwWvUpHBcLv0c97zlNt6Hsk7BFDU6JEdd2CtfZX2S1VVoDakrZ1/sP/tw7jM1YDQm5z+WjOxajsyFtudUncxrksIc0yRc/QX56kXTc136FIO4v98QL0d7cCxsvS8LrBfYYzLIiJ6Zg7HhimlqFJfi0jg1GkoceIsapXPD9Yb+NMWxE8b7UNYpYZ6m0X4GU1gM8IiIfGbbYVej+GL/RGDSNbPVGLBfJPgMSZiX6UvhWZGSFJrkSMK1M9To4UPiT6Gh54QHKTdcGyahKXhaUbzCgezGx5E9nMTjy0+h4S05koJ5s0O3w4qMu2ux8QclyAhaZxeeWm9sVUrG7H4JJmt6CWo31KIkfWKnYns2FaJq8kY8fcfVakoESUni6Ii9rlyAwub+DUC4d+0QoYBI7CepCYO5ah7s/tOfgiRTkKb7wrX690kuV6DRlzE5/7FkRNfyQHpw6LAaDSsQqHk79/rvU3n/JsnAz9uI3CU1/RtM6nPC8Uvx+oUrwp/LWDeiZ+ZgLCjYcgDtjVvQ/NLvUZuuJkuHuwNB5E3zEFg7nQtJX9Cfpqj4h0I09WscxY2ONpd4Rl4t7iKTaD+DKSwGeEQXKM+uKqPFM9ly1eo2uMP8Ou3eWYOytU3Yf6G04HdlEVpfb0fztnYceKZ/zonrcOD36XnXBf76ZHz/93jp583YHpoYkfpcgYTl9XP8if2kO7djX9jchx405BWj59u7sWXp8FL3rj1O9cdyNlKuEed4fxNqVpehTA614jyGa83zsBNO9Rd29gyxdbIVzVr1mdU1aNo/wpYKx9PRBhRWQwSiQ8jtmmFXQZNbb2EvYZEp0X6iCaXVXbDeswXV16lpg4nLQP3rL2H7tu146fXa/rmcrkMisWJIS/Od/VGe/z4PujYXY2GybF0wAak5VWjTf0EX09cXGq3SydZPN5+/reGO6FqOloOv+8+ZNO9mFcLsq0PW55NNiVJxvL9bgUavHRvXFYTJTZKtFFYhd67R8maivRiN+4z7yd1eFnj+rnWcvy1xjvCZOShLEuy3FyBvdvA94GptUucmDbXfytbHouKdLjSWLESyundkq6r630RPFxpWGq1DypZbGw+er3fU2EjJzIbxOG1D2ZwEZNUGWg12N5fikX1WlDxV7f+7pxvNM/gCePZFjSqqSUQXEFn5ffr0ldo2V6/W/a9GOfycH4fU9Dnrq+uwQNvQo6Zd0Mz1SYZRAdxUB2/WEBpi0Os0fPFRrXu4rc4JO77h275V2rqNi7Tptxit2h1ybtZK9RY9w7Tm2aYaJhDDqvoN2qJrc7RHf/aiduiNF7XN9xp1lqLZ2E706+Cd1LZ9ebK2YKNvnYG6N5G+p1ecE38Ll/owXVtWvkpvEXHut6LbsFCgDt4s7dE31MQBDHr+9dYFp2rTizarFiW7tXV6faVl2ppvztKmyXqg74n7+juybkz/+mRjLVp18EZ0LQ9or7ZG1c0MX19O1aXTvzOk1VJfK6n6PDV8aZVWKlv8m75MPEfVckF6tY57p2tTb35Y63hDnqeT2g698Qix3ZXLtMmZj2ovnuzVjumtgYZ5/saEET4zwzqjnXzBd98O5dwPow6eSzz3pk7XVj7VrR2TLQe/us6oV7h8jbbmi9O0lT85pJ15u1t79O/FtCjVRZ4IolEHT17nL1aquq2+QdwTpXeJdX96bph6mYYRPYMn+LNvomGAR3ShOfuiSOjM1dapRMneSiMBOut7IU3f7VGByVD/oJ3cpuUEPbBHOHylJaoJ7KgRx8PXItzQE2NG8KHv1zRxHAcL2v5kHMNFT44ksWdK0Mghc11wgy/6eZfzglsDDPyRN+b5rgsfX4ASrZYcox3gnfxxjt6CZWCNgwd4Um/XBr2l2MC+i+GLq7Qdbwa39zYq6nzKdQ+pFcEhnP9D9XP7tT7nP4fiXn1RnnNfa4JiWNYaxf0ZgugEeCO7lgcmArivqvV9SaxPTQ0QCXhfq4uT52ob3lSTfc6KAE394BEYpmo59Xu13jD3dW/bKm1aaMuq/vOiGhwxtQg5/bzphmQYRvTMDNGzWVtmvk///lFt79tq3oCGGOCJoGHdvNBWIAOf9TWMJa9rYxuWxUzrjtEJ8KRebe8TOf5z7Rtm3bVDOzbA42e4z+CJ/uybaFhEk+gC4/1lAxoXP4hyvV7YfnQ8ZxRkSEvxVRQz9HSpIlJDredgK0LrH4/gyJHRDcebCowiHxNJn2zwoVFv8CHpnnY03zG02jae9odR0SlGrHZs/FU9MiI1FqB0ra+CE3YU3Tq09Q8ku7wcKebvi7MjO1+OdKOqulXfl36WrlbXRYB96XL9tbu6Cq0TrbTmiSbc+UAvan9cHlzHY1Be9Lr24pDYn5TrTYWH3pKd/aeicHuEyv/D4kFbdYU4n+L037wRu78/eGMgg57/062o+a4V1d9WxaIU9wmjbpPljuWwi3PuPf2+/h5xeVixuH/BQcl7sAkNu6Kxn2NvRNdyPxYUVFQa18nhvf2LnR/cgZaBDoenB92yDqUtDWn+0+OF87tZSJR184I2woUNa9uxoiZ4u93uU8ZIZhFukY0ZeXtVMbIUFOWFPGXNRaVrG+E83zp/HuEzs5+rStD8uvr78LtmFL1nFJPNX981xPM+MO8va1AzqRrfDyoO7UbPUflqQVGBLJ7rhcd3veSuQHZQPVsvenY1oEoVaW/sHGIn7LFEXMeHXj0ET1wK0kx/P3qeKURqaiFawzbAMsxncBSffZJnZxnS18qncwxTgR4RXSDOuF7UXnSpX7Z8xQd9v375BXKeAkXfJqCzRsetvmbmhz/0amfC/PoezNcvjzgWw+n83dcH2rSVWstQmgd/r0VbKZcPm7swFOZcj/DFagO/2AaKoAWmRTjXplyGofwKf+btcMc5MOz9zlxtrjiO4eb5h7eH8sur0ZdS/5zFwXLwfEWKFmiPdhlnU/6SrHfKq/ZT9pNW6hjdr7+HnpDFhCZr077aYupXcABDOf+9h7SOXx8K6VMq0GG6+RdreR56Q3bh5Kuyg+OHtWWZxvU8/JzUwe+3lqLJ2sqfhZ/nH0I3rJ+RXctD4Tsvs75pKgZ2RhzDmxdpC/zfGZJLo/oF9Z9LmZtXHrhv9MGciyzm7/1Ft3iKBvMVOzXn1p3pDe0eQ5BFBlUH3yff6NAeVcVDF20cxpNhXJ6NkYzwmTkUer9r6jjeG64fNZ+h5eD1iuPr/3vo41qnnnmm60A/nuKYqLeGY9rm7FmBop2+DvOH2fH9YM/MwYZ+188QRSUHT3VyL4sc79VPhszNW6Z3c2CsWwzTSrWOoG0cwTN4lM++IL07tFWyBMBgRXfPcwzwiC5gvuJ3Qf2zSf5OmKdrj76qpk1EJ0Wi+Nrp2vQRDyL4GiRxaCQIp4ngZhiJK18Hr2kicB5i6ubkk4v0czH5GzvUlOEyFQeN8AfbHMz5itHpRRxDpgUxBXiD/0Hcqz36pXDH2TTIP6xTw0w3D5nrtMEKrPW2ynpM4RJSAwd4+ufEvGWtISfmrEiYfE+dAzl88dERBtriO14wOngeTt3FEZ9/f9HowQMdGeDt+MWL2qFXjQTssAO8Idxv02QH5NPCz/MNc+/d0S/4CTaya3lozmiHnlQJULWd08T1WNrWq+3wFcMzF0s/2609+kUxLUy9yDNvigS9KVG6csAiYb46gIPVDZL11qaJIPlYIDHr24ZwRUcjGYdnYyQjemYOQ6B+ZpgO6/2GFuCF438mDtYHparGME0Emr5zZfT7Nrxi/C1F4Y7/0Af5g8pIjD7AM35k0wPh0Afd2+Jvgb/+pawCErgWovYMHsazL0De58aPDwzwiChGDZDg8NW/m1w6yrL55zcjoW4k/szC/uruIyuCy4rf8ldcc3ov7C/APoEE7XA6bg5ldLguh2Ekih2l/aeZDSvAG5zchuHnHIXydS4ePsHja9QmMP9hzfgJQyX6+uVYB/iCs+HmDPmpnNtFT4T82vxe7wA5V6M4/75GcoaT86vO6ejPQ3/RamRlRNfycJhyuIzTYgoql7cEzp2q0xOxXqTvfhfLDHju/LlCq7QdA+buhG/cStY/kt8xoUtUCCN6ZoYj75cIOfnmcx/5mI88wPMFkHPrB7mjuh42nhW3BALB8+U8SaMO8NRzpN8PxH6BnNxAsBzFZ/AInn2ybmzOE+uMeyzGAzzWwSO6UL3WgR16tY5cZIc07e9vonypHZn6lCE43YUGXzPmoxk2dal6KeeWZ2cxZq3owornX8HGXHOpfy/aS5LxwK/VW7M+FxoWpWPdpzdiX0c5UsxVAA7UYe6XG039a5mc7kSbrKsnJF058vp3aRn+HqkGYcGnfT3Jzs4I9GM1CEu4TmvPiSuQcUcRim5fgiWLQ4dA33KWGfPUtBR8Wp/iwusHxctN8zDPXKfLxLp0Ex5fKsdOBurdDNXhBiycuw5TNuzD7vtTgprN318/FzlPR+gHbBTnv+u37fqr5WZ7cFPk4jr1eM6zelsmI7qWhyPOAquvg3n9RLnRo/pGsC/N9J+7Hr2ZfxvsGRHOS1wKyp+o1K85b2+vMS0M955Oo3n/THu/a88bdJ7mYcUdKbBdn4l5l6tJgkV9ZiLX7xrRMzMceR99NhHJn09A8lpzp/P9DXTMR6YLnc/LVwvsNwbfUeJEIehUpdfiyB+P4Li/ewg3nC/Is5yC5UsvgE7cXEZ3Ipk3zjPe92NF9r89Dr0zi7c96u969J7Bw372edrwwJY5qC9NUxNiGwM8ogvVyWPiz5Eg+2YLetC6sfc3qqehzIygROqALk3CvJuykT3aISNp6N85VkQCI2flYaz+3T7U+zsx9zmMQ6/acPU09dbPA8d9WViX0ozfby8KOabiT86b3XB/IaTDV5/Dh9CtRofktAdut+8PZoBtca7qh+0wXHon0cECicNszPO16WBbglwV4B8O1xFxX+BbsjMmSrfCs1G0YSM2hh3K/X3RJRXUqmlF/oaCPiH/OXnSuPbD8nV4nYQrgtL0ItHgdkdOcHgcKF60DjN++nu0iwR6MC9cB91ISoqQ6Bvq+fc4UWVPRrK9Dvv1cxloJCkz9Nx0PoLkJU+F/0HhPDCia9knwv0hG+XJvSwe8fEL0RDa6flRJ9rkRWEpQHmB6cSLQFA+E91vG2/Dsk6BjDFtV15hvO9zoWllOpLnFqsGJrzo3Gk06GBLnxPcV9yJRuQklsLh3x+RKN6wD0ectcjwN+bhRdce+UwW826coIHDSJ6Z4tmi31MhJ6pnZ5P/fnD/xtzpvMHXsIaU8sXQe214PJ1VWDgzGQt/qPrr8//wKQLskOvK+XAysjYHb43lct8PBF70NK9BzT4r7BuaUX6NPjtGRHj2xelPU3GvDdA60SSr0ShK0hX+635Ez+BRP/vE3+fKp3DtupAGm2IYAzyiC90VgQevztOhchNsw0tMxNmQcVse8kY7pAdtzfh7p00k1KtwMn0eLPsdaHuuzRierjFyGL9eigZ3Gq4Nam1SJOAfy0H+9itgTzoJZ7v6zHOtaFhr5EwWfMcB23XBuTp+vmB7KI6qX7eTxfBgyK/bV96CIj3LtRuvv6FPMfFif5cRuFvvWY0Cf+LRhlu+ZuSWdHcb8828+/caOQ/WEqy+9ZyH3qOUCXuueHmtCS2hCXyfvv3Yu0e85q5ArimB7bgvGYnJYvhsLppCW4XzulCXl4/WK+242i0CBd8184yvdb0CPLrThrQvRDh+Qzz/jrW5aHhNBBuvtcH532KCv+XHFNj/zrxuD1o3NWLePcuH2broBDKia1kY6P7Y74RTTxx2o2lncPKv68l1+nVuX/f9oFYSk27K1o9hy8/aIrba6HnVKT6bhKICI6HZs/lOlLW74D7cCqfMrTjdjh079Vn9EqP7n26A6567kT1QolMET+vE5623b8GDIaUtJoQRPTN70LAowbinkivQ5Q9wZaAcCNpsN80LuYbdeP2/fBFhBu7KH80V7kBVTgO6T7jR/YJTDwhcL7QY9+J1dlOALXjEs3zrPJSH+b6ep/ORPDMVWWudSKn6OZ6+fXRB58QywLPvRjvyxEv3T1rgMp2/IK/thbwL8wpy1d++kT2DR/vs8+x8AA0p9agMaSU6pqmimkR0ofH10WUuC/92h9Eill7+/QKsf+drHEXf/wGG6Y8GNQLia5lvsCFSvzxB9Yna1MRIVJ0gfQjXYbOv9c5564LrAPrqAKWF6UTbX49orrbuDdOH9D6i5PRZUWtsJzp18MKQdXZOntQOOR/WFvmOz5cf1V58Q9azMtV99F334Vo3PXNM2/bVaWLeKq0jqAqRqT6PGILqfJnqYA08RO4/a6jn36iXNlVbIDsCPtur7fjGNG36dFnHZaq2xqkWkg0VfGeBNvXmzf2vDZ/zoA6ebiTX8kD3h68+qeyc3NRYyclWo7Px0D62fPZWRm4RsnfPo/o2mltz1TurF9Omy46Xz57RDv3rXG3adKPxjUBdvjPasZ+sFOcvtIXBEOr6GnJrrONthM/MQF1DOYQ0HuNrVEY2thRybAL1s4KPuc5Ur/LYq5u1ZXodczHMW6PtkC2S6vPM9aB9dXkXGB1yv71D7Mt0bbrcn6C/i3u1RzOninM3yP0i7r1tstGRobacfA74W+zs6dY2LzcaWZPHf80vurVj6tgFVxUe4Nkn+BqkCXd96o0QiWPZ774awTN4VM8+eY3eIp4h/u1T116M18FjgEd0AZMJG701OdUYxVTxumiekZgJamjgQmFOHA40BLWuFvwHMPIQufW8M6pVMTmUOtTESN7bqz2sNw09XSsN6pw3oFcEOXNla4Yi4bKsvFQrXS7+6Mn1f+nhyK169r6o1iv+iC4Xnylfpi2QCaRPzzUSP1EyVgGeOUjqP4Q0IuDa5m+Se/qXV4l9NY6R3gLkl0q1HWESZ8d+olpeDG0C3dwIzUCDuWXGEEM+/7L5fLGN02TDMdOmatPv3SESYyIA0FurE+/l9KlTtbnlOwYOBs6XAE8Y9rU84P1xRtv7Ldk8u+8aL9WW/b2RyJ37LZEIjXjMerUXv6WuL992lK/SctLkZ6dry54ICfxEgrJUXF9TRVA3ffpUkeCUDS71ikSqEeT5z99XNqim5SORjVRM12ZVDrRt59iInpmSOBePGMc0bHcHpufRLP89qs6BeCaVtoVpfWNI92Lws+DQxkVifSJYEOfE15rqGXWfBf4uRvi+cHwNfwzWAuc5MbS/VaH3b8Rnn3Lox2r+p6drOd9Q95WvK5ZIz6LhPoNH/Ow7I+67HG2dS73VXRgB3kXyH5WZR0QXIq8HblUJwmIFnv1yMir2AfYNR9A+0s5paXj63HBu2gCH5RY8eHdGUEeuI+Z1Y//OFjz7Gxc8k1KQvXw5sq+3DVK/0Qv3aw60tDjgOm1Fyk0rsHzpbNgG/tCw9KxPRz62Y9/9oylaFQ1yXzux44U27JdFfWyzkfdPtyBz0GM0BoZz/n33a5wVtssDW+p9xw1Pn7iHP2WD1Vy0LJyjDUifUwXUHIj6eXCUxOPZ297FFr2RhCgZ0bUcmfewE02trfp5t83Owy25mZg9lIv8tAvOdgcce8R2iLOUcmM2snPtSAl3vGX9sndkPUDZmIvVv61ej6pzJh62NqPyVgQecSznoibleexao4p2H21Fw5uZKF984TyX5blq3+mA800PIM69famsp52i6r1Fh++cBN075vN3uTh/YYrQejrrULUdKKiphN1306p7y4UCbH93i9HAyIVA3qO/3YEd7fv1Iq5Du6+G+Qwe0bPPiaqZd6JFvTOI7z0hrie5HrF9aWt2Y/ud5/rvUfQxwCO6AHn2NaD03iagrBnN5gYhDtYgdX4depCHLX9uDq7bQhQFEyfAu4CdbwHeBci1PgulcZuwuzTwfHZvzcXDl7dji6zDROdYDxrmp6LqIJBivo92FiN+RauINkqw+1S9v8EnmkgcKI7PR+vt2/FuY+yG4GxkheiC04WaL1eh7bALbU86TC1NudH0oAzuZO7dYwzuaEwk3b0bu+9mcDchmFpIjZbsfzuOTYvVGxoR9/ZCZFXvR8/GHCTPTPYPcx84FKb1Xjo3bEiZbQGuysODpi4R9ncZDfukfTvQmi9NML7n3hg8/yYSBnhEF5xeeOVzLc6Gom8XqZamPHA+mIWyTpEAv6cdzSyaSWPFYo1q8SoaOqO1v0TE60XIANd30xGfKIOHKhiN+EfBpPDF2WioHHh4lWyxUxYjcwcNnr7Qlijp3LEgu64V5RYn1lXXoPG5NrTW5uLLj/UgpbQdz5fyR6yJpweNy5KRmFCIVvl2e6H+/MuP1D/peY5FNIkuQK71C5H+XS+yC+dB9tx0ck8THEdTULRlO+pvmwD90BEREU14XngO7oXTJTvRsCIlO0KdTKJxxgCP6ALl2e+A4zdOON9LMio2p9r4yzsRERHReY4BHhERERERUYwY1zp4Z9ra9IGIiIiIiIiib3xy8MRXvLNiBT7Ys0d/+/H583H5M88AcSwPRkREREREFC3jkoPn3bXLH9xJH/zud/Du3q3eERERERERUTSwmwQiIiIiIqIYMS4BnmXxYnz8xhvVO6OIpiUrS70jIiIiIiKiaBjXVjR9Dax8Ii9PfyUiIiIiIqLoYTcJREREREREMYJ18IiIiIiIiGIEAzwiIiIiIqIYwQCPiIiIiIgoRjDAIyIiIiIiihEM8IiIiIiIiGIEAzwiIiIiIqIYwQCPiIiIiIgoRjDAIyIiIiIiihEM8IiIiIiIiGIEAzwiIiIiIqIYwQCPiIiIiIgoRjDAIyIiIiIiihEM8IiIiIiIiGIEAzwiIiIiIqIYwQCPiIiIiIgoRjDAIyIiIiIiihEM8IiIiIiIiGIEAzwiIiIiIqIYwQCPiIiIiIgoRjDAIyIiIiIiihEM8IiIiIiIiGIEAzwiIiIiIqIYwQCPiIiIiIgoRjDAIyIiIiIiihEM8IiIiIiIiGIEAzwiIiIiIqIYwQCPiIiIiIgoRjDAIyIiIiIiihEM8IiIiIiIiGIEAzwiIiIiIqIYMeECPEdJPOLji+FQ74mIiIiIiGhoRhjgedG6QgZiCah4WU0KwwjW4lG8U03opwsVCSqg61OTiIiIiIiIaERGGOBZkLnULl692OHYb0zqpwuOXxpj7b/pMkZCHXbC6RWvS/8RmXHGJCIiIiIiIhqZERfRtGVmI0W8uve9DrcxKdhrHdjhtcBiEWFg5170qMlm7j2dcIlX+9JMETISERERERHRaIy8Dt41duTZxGtnGzpPG5PMesR0N+Zh3o3izUEHnP2iQC86dzrFawoyb5QrIiIiIiIiotEYRSMrs7HkNpnv5sD/6zSmBLjh3OUCbBkov1UW5XSi7beyLKbZfuz9jXix2GGfYUwhIiIiIiKikRtFgAdk3FakF63sV8fudCfaRNBnuW0JslVRTocjJArUi3CK11uzkWFM6cfdXoXcOQl6Qy2yQZfUlQ3o8qiZITwvN6LYnqiWjUdC8kIUb+5C6OLmVjpdWwuRfJl8Xxbcauc7XWgsWYhEfZ4YEpKxsKQx5Lt70LhIzk9G1QANzRAREREREY2XUQV4SM9GrnjxPteBoKZWOv+fHjDl3iRCN19Rzt/sDVqmZ49Dr7uXnZ1pTAjRvX4hkr/uwKVLq1FfU47sGV70iIAvK6+hX30+19ZczFpSgdZTc1DwUD22iOUzrd1orczCrPscCM07lDy7ypC1ug1uvfXOM/o03eEmEVRmoWL7Scy5tRL1jbUov2kKup+pQNYsEQj2K45q1DMkIiIiIiI657RROaO1LJ+sTZ6co207qSYJeyunimnLtJb3zO/nahveNN5H+pzUcZecLoZpq7SOXjVROntIWzdPzpuuPfqqmia9uUGbK5af+8hezby4Jt513DVNLD9Le/QNNUkw1r9IW/Tl6drKnxwTW2J2TNsgv2Pew9re4JVpvS+s0qaJ75n1vUNqChERERER0cQyuhw8f3cJ5jp2+9HxnBjPzEPmJGNKxk0yn88FR6dqaaWvE/9P9o13XTbsEdpXKWjcgmyreiPFpaDoHvldbnS/GciT63qyBi5LCeq/nQHz4hDvsu8tgQ09cPwmNM+vC+70n6O5MCm49c6XG1Bz0IKSdbXICF4ZrEvvR4nY1h6HI2yLoEREREREROfaKAO8QHcJ/jp2R0WwJ+K4lMV2EVwpmf+IbPHi3NlpFJc8sBdyaZsIDpPk+37SMOeLatTEZkvQX3tO+Jrk7MHeTrFGbyNyffXlzIO9Ti8G6u3XiboIFv95thoP6Olyiu3zojEnzLriF6BOrux9Y1kiIiIiIqKJZtQBnr+O3S8dkE2tuDsdcMECe4YpdJuUAfv14lXVwzO6ULDgluz+QZZhBlKuUqMDcuH1g+LFkoa8O4pQFGFYfl1oJbkkXH2lGjVxvSF75bMg7bbw69GH21KCc/2IiIiIiIgmiItkOU01PmJdDyYg60krKp0HcO2/JqB4ZwG2/3ULsuPUAsL+7yZjwWMQy7yEpOpklHX2X0aSrVzmPyPmvSvmqWl+O4sRv6IVKTUHsO9+GUC6UDc3HTVvlWD3qfqIrXGaDbR+12PpSP9uD0o6TqH+BjWRiIiIiIjoPDH6HDzBqGPnhqPzKaNu3dJ/RGZI4DY7+xZY9GVa4JTlMzPtSAtZZviScPUXxIu3Ax0yJ2+UkpJk0OhFx69lTh4REREREdH5JSoBnq+OXfdTjXrdOvvSzP7FGFWXCt0/adKLaQbV0RsxC3LvKBD/9qDu3jq4Am2vGLwuNK5tGnKjKJalJSgQG97zwztRd7DfyuDaXIWmo+otERERERHRBBOdAG9SJvJkd3Zv9cCNFGRnhgnd4jLxj0vF62EXXCK0y8sM37zKcFmWPo7m263AazVI/1w68lfXoPGZBlStykWyeF+xJ0LP6OFMysbj2wpgRTdq5icgfUUZap5uRcPaYuTOFO8rO+Hx5zr6OjpPRc1rahIREREREdE5FJ0ATwRs9sWyLU05mgf7NcZoMF+XCnL0FiyRja5EhRXZjUdwYFs57Ff1wLG1DhUlVWjYdRLX3r0RL/2iPEJLneFZl27BkdebUS4C0J6dTah7oBhVmx04+YVybHzpeZQPqfEXIiIiIiKi8ReVRlaIiIiIiIjo3ItSDh4RERERERGdawzwiIiIiIiIYgQDPCIiIiIiohjBAI+IiIiIiChGMMAjIiIiIiKKEQzwiIiIiIiIYgQDPCIiIiIiohjBAI+IiIiIiChGMMAjIiIiIiKKEQzwiIiIiIiIYgQDPCIiIiIiohjBAI+IiIiIiChGMMAjIiIiIiKKEQzwiIiIiIiIYgQDPCIiIiIiohjBAI+IiIiIiChGMMAjIiIiIiKKEQzwiIiIiIiIYgQDPCIiIiIiohjBAI+IiIiIiChGMMAjIiIiIiKKEQzwiIiIiIiIYgQDPCIiIiIiohjBAI+IiIiIiChGMMAjIiIiIiKKEQzwiIiIiIiIYgQDPCIiIiIiohjBAI+IiIiIiChGMMAjIiIiIiKKEQzwiIiIiIiIYgQDPCIiIiIiohjBAI+IiIiIiChGMMCjKOpBw/x4xMeLocShpp1vYmEfLiA7i41zFZ+OhqNq2rkykbaFiIiILlgM8M4zjhIVfIQOienIXd2IrnfUghNJnwtNK9ORPLcQTYfVNCIahAetK8S9bW+Aq09NmgBcj6WL500xHB41gYiIiCYUBnixwuOCc2sFsj6fjLKdEyzl9ZsGlLW74D7chrJ65ooRDYVnezGKd6ag+qlypMSpiRNAyv1bUGltRX5JqwhBiYiIaKJhgHe+mlGJ3UeO4Ig+HMBLj+fBps9wo+nrD8BxWn8zMdxYhPIZcsSGotvm6ZOG7bQLrbXFyJ2bKAJYNY0oVvU5UXOfA5Y761Gp3zsTSNxsVP+oBJadD6DmZTWNiIiIJgwGeOeruCmw2WxqSMLsO5vxUl2GMc/bisadXmN8IpiUgdpX3sW77x7BxqVWNXGY3A6s+2ErnIc9OKMmEcUq95YaNHoz8L01djVlgsksR/V1HjTWNsGtJhEREdHEcM4CvP/+7//GyZMn1bvx4z3YiMI5CYiPT0DqygZ0hSlj5H2tCVWra+A4oSacJ2w3LUGKGu85wWQX0fnJjR0tXUD6ctxypZo04SRh+TcygM4m7DjPnpNERESxbtwDvD179mDNmjX41re+hQcffBBVVVU4cOCAmjvGDjdg8T+0IGXDARzflo2e9irk1IqEVJAePHVvGRq21qHtoJp0XnOgWDXEkr6+B57OKixMMN6X7VKLSO/sR9PaXKSqeXoAnFOFtqPhcgK96HmuDAuTZaCslo0QLBuCtyGU96gDDSULkez/7ngkzs1F3cvyu9Vn51TBZSxuNDyhL1cs5pqM6T4MwNsDx/oyvfiob/vjL0tEulyfv9EbL1pX+rZLbHeYRjP8DegkVMBpmu/Z34SqnFQk+NadkIrctW3oCdmtnvXppvXLhm2Sjff2BnFVG+S6alYEH+uE5IUoe65HbGEYJ5yoWZmOxMvU8oli2Xb3oC1GDnWbB2Osx/T94jwl24vRGqGVSre4p3P1H3CMZQc6p8PdxuFui5947iz0fcdQGkxxd6B9H5CSt0QVuw6I1MiS/7462oB033txXbatXhjYXrV/7tDvN3+mH1+rsiH3mmC7tQh2dKF9F39MIiIimkjGNcB7/fXX8eSTT+Ivf/mLmgIcP34cdXV16OkJl7iIJjca763BjC0/R3WmDV6PkerznghJ2LqdcOiBnR0Zs/Up5w1Xe4sKgiywZyTpY0HeqENOTgO61Q6f8SX0RAI0K3kByjY5ReLWAtuVNrEGEQB1NqBwTjKKgxpt8YhEZjJSv96EbrfvyIllRcI6a1ZZ2MBlIJ72MqTOyUfVM93wr07wHHaipWsYCcdzuA+O1anIr27Si49aZJFZi5jY5xHnQ6xvjq+1QQsK7i4R/0rtcOzRRwL6HHj2GWM06f67YFeNarg2ZSFxQRkaOsV1apHFccUaRMLduakQqcm+dYfyiIR9lhGISe8bLzIhnyXWVbdTHOs+qzhGRnFZr7sbTV9PxeL1vhBakYHJTBFot7vg8R0Tj1h25VwUPxf2i3Uj2+ZQXrjW+9Zj+n4x3f1aK/5fyKZKPU/lIlkEdE5/QK/O6cr+xQiHt43D3xY/jwPFi6rQLcetBdjeNoQGU/Z3wSlCu7zMMPewLgn2O4pQZBqWX2dcWX593WhYkorCPTbcsqYe9Q8VwH65sX/JSxr9Af+o2OYgQ0Sgzs69agIRERFNBOMa4HV0dKix/nbtMmcnjYHXGlHnLseDuTJR60XnTqc+Oem62SrRrbzqFIkrwZaBOaE/n09Up91wrs9F1ndVSvO6apTfYIyauZ5pwrHcjThwStaHexdbloqJfV2oEAnQLpFoTbpnO47/9RSO/OEITv31OJpvl8fKg9aSGn2+5N35AAqfMVK/VrGufX821nXqSDsqrxHHbjjdIByuCyS+bXmod4rvFet6V27D87XIvlzOyMYWOe31Wn/x04Jnje98990tYq5wLvdBiktC0Y9ewhFxXE/JRm/E6/GfFkAPnzytqNqqktM35qJIv9i8aHo+JOd417No1UcyUH6H2tOXK5C1Vi6XhJKfH8e7p2SDOqfw7h+bUaDvViuK++VASw40NV+Nyg7xGXmcflcu1mC44uZKbH9FrEMcmyN/kOvch+rrjXnd1etMwa0LNV9RgQnSUPl84Nzs+5EdjmcitIY64m0O5mkvxcJqtVx6ubHN8vtPHce+bUW4tl+Q5ELjpmMoeVZt559f8u8XOmvQ+Joal4a5jcPfFqXPhYa8fLTKS81qx8ZfietVvygG1nNQBkxpuDZi4yriGtmwERtNQ+Xi4IeV67uFaMnbh1OvbMfGqhKUVG1B+wF1P+yrQNV2068pIzYbaQvFy8Ge6ASMREREFB3aOLr33nu1r33ta2GH6upqtdQY+VO3tuPVk2p8s7Zo8mRt8uRF2uY/GZN89lZOFdPFvHs71JSJpeMuud0DDNNytG0utbCuQ1vlm/fFR7Xus2qycqZ1mTFv+sPa3pB5mmudNlf/7FRtzR454aS27cuR16X1btOW+b7rLvPxC2zD3CeOqWlntJavqmWnrtJ29KrJkby5QW3LZG3VC2qaMj77MIDQdegOaeu+1H89/utr6hptr5om+c/rzZvFFkri+Cw3pk1/xLyk4VD93H7rOfaEmiaGZa1hDmjY7RTaVqnPzdU2vKmm7VmjTR1gXS9+U+2H+TMj2ObwDmmPftFYz+R567RDkbZbesG37eZrS3EG9mFVm5o27G0cybYYx2Rv5TT1foG2IeieHFjHvfIzq8Rd059xnYSfp/PdJ+LaPqQmBfE9+5a3iCOhqM/0O366Y9qGeQNszwDbSkREROfGuObgyXogkQw0LyqunI2861VHAs+3QP89vl8jBi44f238sp19c6b+GknEDsdHORSPtAsASxLspc04cKQdRRF++bcV3ILZIbkNnb9WOTHuBmT56xapYW6NKvLpxd965Ws3ujr1CWHXJXMp7Nep8UF1wtlujNlK70feEHI2Ijl3+6CIdXgPO9G6vgplq/OxcGYykhPSURMmJzDjDpWb5m1Ci6+JeVPxzLx7i1S9K3F81LXgXp8VvE9iSPfl1nr/Bn23gmRjRbjWSuW+et3Yv6sRNavLUJyTjuSZiYhfaeQdmvW8ulccMSn8uuyLc9WY2Wi22eQtBxxvGaPZFUPtAy4Fy5eGFGlMmQ1fpxz7j/rymIa5jSPaFuBkezGWPaln3aHg2edVNyFDJHNRZ1zrz3Udkcx5/hzvIFfOh11eYD0no9L6ZUpK2G8hIiKic2hcA7wbb7xRjfU3f/58NTbW3OhoN4pb2b92S3AjBu696NQT5WmwZ4TUaQmRdm8zmrdFf7h/qPX+rqvFAVlMzDecOoD2H+QhaYDNnjIlTKLfXyTPqLcWabhCrdfXRUHYdQ1T1NZ1DvcBfW60fj0ZCXNzUVzdgKatDqMRjZkZSAt3Lq5bjuVXyREvdjj265MCxTMLUHRr4EP+7iBkHbEw+2MMV+BStViAFdZJatTEs68GWZ9LxoJlFajb2oTWPbIV2ytgTw8TSvT5ivCFX1ckI99mE3H8/N8+aYALOoQlNPiyXYEENWo2rG0c0ba40FCtOgGfsRoPLh7BdRZnCS46PkyRAy8rpuhFn/tzVaf2C3jj41NRFRONTREREV04xjXAy8vLww039K8ctmTJEixYsEC9G2OnO9Gm5+CkIDszuN4Kunz177Jh1xPhkdmuz0PebdEfZp+rZtFnVOL5PxzR666FG2pvUsv5+AMAMw96/a1GDkPYdY3AOdgH9zN3ovg5mReSgnJVT02vh+fcguXXGMsES0FJudFfobt5B2SI53jOCO8sdxYhO0wOUcpDz4fdH2OoxdB6SuvCuq/U6fUQLUtVvUO9Ht4+tFeo/hMj8PoD6ADvaaMOYyTR2WYhzHdHy7C3ccjbkoLqn9YiTY4eFkH1fQ4j2BuOg6+rnOeR6e2N9I0uvC4DtjARtmV2XlDDLcaQF/6HCsV9grXviIiIJppxDfCke++9Fw888ABycnL0gO/hhx/GypUr1dxx4D6pGgSYh5SQBHjXb1WZwcXzcJ41oDliKV9Uv/QfbkKLuSGKsK7A1SomdrU6+jes8NoOtAy53Fca5qUbY64ft2D/KBLy524fgO5Oo7EeXFeEkkzZcqfSdww9EZrPt+Ushx5SuVuw4zVf8cwklN9pDilSMEcVFR3t8dEd3etvGTJXJNxTTLly7rf6J9JtV/py9drRGdripwhX2sWx6y9K23zVbNjVgWxtVjlhUTPMbRzhtli+WI7nnzUa2vE8k4+cx1z+nMDBGNezB57TxvuRcO9/Pfy2djrEGRXn92Z7vyKgSQW1QQ23GENthB8qDCffFnt13RxxVImIiGiiGPcAT5ozZw6WL1+O/Px8XHvttWrqOLPZRFLfpK8LO54zkmCD1b+LJUn55Sqnogd1eYVoOmxKhno9cD1XhuLNvgBgNpbfoZKFB6uQc18bXCoR6hXBVWFe3TBa07Nhxb16G5jAW3VYsKQKDt9393nh2lWDqubwa+va5TQ1VX8u90Hw5bgdbEHLQfW93h40fb0QjabNCHJlEe6WLZiKb3J8t0FPcOOq5VgeVPcvCcvvUQGfOD5f/nqTfzslr8eFttXFaBysDzYfsZ2+4NPxXJv/+HlerkF+ZaDFSB/L0hXI08e8aFyZi8b9vn1zw/ndnAh1RaO0zXF2FJWqc7SzGHO/3oj9vu4sZB3C5jLUjbjR3WFu4yi2xbp0C3bX6Pl46P5uev9uKCJIukb+vNSNQ8NtzdVsVxUeaA8J8TxdqHqwUZzRFKz+WjR+wtqP7t+Kl+uS+gWLREREdO6ckwDvnLpqHuzyZ3W3E787YUyC14XG/GVo0HNuBq9/F1NEsNGschrgaUPZXF8n0WJISES6SAD70vZSykM/RaX6Rb+nuRDpnzWWTZhbBufSWpQPo4ESa/4WtN+jkob7GpDv++7LEpC+rA4Oc1HJa7KRp4rN9jydqzpvVp0vn8N9yP5aifG9IkFeM198b4IcUlH2p2wURGxYw4LcAiN86v61U8/ZySgv6ZcLYrujGdv1bh7EbrWX+bdT39bEdBRu3e/v4m5QIoC8S/1u4XmmUBy/BCSIY5i4pBEzbleBttmkAjz2H3nqmDpRsUAd04Rk5D4G1H67QF8sVLS2eXbVdmy82ViP+7kKLPB1SC++f8F9TTg0ihzN4W7jaLYlpfRp1Pq7ocgK6Y8xgrQ54inkRlf3yJtBScnPxuGViUjOKUbN07JRnXykfz4LDQfFtfaDZpQPkCs3ZO7XIbuqTPuSEcQSERHRxHDhBXhxGaj+RSUy4rpQkSoSQDOTkXjVQrT8TeXnDaH+XayROQ1HXheJvswUWE11wKxXpiH7oWY032n6fT5uNqp/dwDNd6QFlrWmoaBuN37fmBecKzooK+zrDuB4Rz0KrjcVb4yzIiWzHNX55nyBFFR3NKPoeiOhLVmuuRpT1Pg524cb6vHKT8th99Wd7LsUaSKAONDxL5hj2o5QlqW3qBwyKQ93F4bUB9VZkd14BAe2ifXPCOy3PD6267NRua0Zdw35WrWh6Ke7UX97mjrOIqy8Kg+1Hb/HlttM6zax5Tfj9x21yLvGd2YsSBLnpfn1XQO0ChmlbY5LQdEvw6zHYkPa7fW4O3J7TUMwzG0czbaIz5a3bTf614MHrSty0DBYzpw4LzI317m9Y+QtXab9C377h2Ys+R8H6h6Qjeo4cDK1APUdx7G7NDoFKt07W+EU92W/1kuJiIjonLpI9pWgxi8sfV543vHouSeWT1nxevVVyH3aC8s9u3Fq3cCNThBd6FyPpasuBQqw3dfhPEWNe3MWkiuB+j/sRslwGl462oD0OVVAzQHsu38sAy83GhclowL1OPKrkuDWiImIiOicurBy8E60ocyejIVrnfDEWWC12WATgxXteEoEd7J+TvkdDO6IBtTXhaeeUPXJMu1Ga5EUVbbCB1Fg6ULN+v71IyeEzjo8ss+Cggpfv41EREQ0UVxAAZ4bTXcXouk1N7o3NWGvmip1ffcBtIlX6z1bUD2M+ldEscxRnYWq5v1w+xsh8cJzsA1l87PQqFclEwn80uVM4I+FSdn4/jo7PE+Wom40ja2MhT4X6mRjLUs34fGlF1B9ZSIiovPEBRTgicTp/8hXCzJ+8KC/SJlray6WPemB9eaN2P195t4R+bm70HDfAiT7GyFJQOJ82UqpMTvpnlYm8MeQbAxmy1IXau5qMDrPnyBc6wtRc6IA2xtVw0ZEREQ0oVxQdfA8O4sxa0UnUvKX4NpPAWdcHWh9Gciu+Sm2lGYENc5BdKFzdzagZl0TOrpc8PUMIBsWSclYjvLvP4ii2UzeTzjjVgePiIiIJqoLrpEV71EnHL/uhOPNKbAvzUZ2RgqszIQgIiIiIqIYcOG2oklERERERBRjLrx+8IiIiIiIiGIUAzwiIiIiIqIYwQCPiIiIiIgoRjDAIyIiIiIiihEM8IiIiIiIiGIEAzwiIiIiIqIYwQCPiIiIiIgoRjDAIyIiIiIiihEM8IiIiIiIiGIEAzwiIiIiIqIYwQCPiIiIiIgoRjDAIyIiIiIiihEM8IiIiIiIiGIEAzwiIiIiIqIYwQCPiIiIiIgoRjDAIyIiIiIiihEM8IiIiIiIiGIEAzwiIiIiIqIYwQCPiIiIiIgoRjDAIyIiIiIiihEM8IiIiIiIiGIEAzwiIiIiIqIYwQCPiIiIiIgoRjDAIyIiIiIiihEM8IiIiIiIiGIEAzwiIiIiIqIYwQCPJrAeNMyPR/z8BjEWQ060oWxBAuLjxb5dVganmkxERERENFoM8GKco0QEETKQSKxAV5+aGJYDxXK5Eod6T2PCI47z/EI0HUxC9h1FKLopCe+rWf31oHGRDAJz0XRCTYpZF9K+EhEREY0dBngXCk8jimv3qzd0rvRsrUKrx4KSX+7D9g0bsfHnlchW84iIiIiIRosB3gUhAxnpIrh4rBh1h9UkOidcb7jEv5mY9yXj/cCSUPKrd/HuX9tRdKWapPRsL0PunCw0HFUTznuR9/W8droLDSsWInE1c8aJiIhofDDAuyC8j1u+UQIrXKi5K8bqs52XrLBOUqMj5HI0wXnUo97RhOXei6ad3fB41XsiIiKiMXZOArw//elP+PWvfw2n04m//OUvauo4eqcLjSULkZwQj/iEVOSubYNb1k/zdKFhZSoS4uORMKcQjQdjJVUm9uPG72FLoRV4rQprtjMwICIiIiKKReMe4P3sZz/Dww8/jK1bt2LLli1Ys2YNnn/+eTV3HBxuQNbMlejM2ITdR47jeEcRejcVInllBSr+fhn2Lt2Ot/74Eso/1YaKf3gEXepj5z8Lsn+wCQUWwHHfA2gbYoxnNNKSHr4o4NEGpItgOH29OU/Q1PJlnweO2lykykBaBc0N+9QXiyDbF0z3mxeWFz3PlWFhorF8fHwCUnOq0BapQQ4VxCdeppZPSMbCkkZ0hX6FeR88TlSp1i0XbhpaPqfn5UYU25P9+xF/WSLS5XYdDf5xwNfYTf4z8l0r8n3LD9KojfG5YviW6lmfblqPC1Vz1HpMy+i8PWhbGzj2/u0KPV7m/X/HgZoc3zkRx3dlg/94eV5uQOEc1fJnyDyzfsdDHvcHHHCr+QMJ3VfdzmJ9PcU7xfiJNlT5ty8eifZiNA37Rxh5HVUhd26isX0RttGzv0l8V3rg+vHt8ztqAZ+I10+z0WjRnCpxloRn8v3fF3y/EBEREUXXuAZ4u3fvxs6dMqUWrKWlBf/1X/+l3o2hPhfqitYhadsraL5zNpKsVlivX47l14l5OxvRlN2M5sIUdK5dgDrZHon3GHpO658MJgOXx5pw3jVZYs3D4z/KFvvVitK1DpmvN4ZOou2+uSjtTMDyqlqUL02B96hIoC/KEYGcA8VzsrDh7QyU18h5aSKhrOaFrVPmRff6xUgt3gvbbZWof7wSBZlW9HSKoCM1C42hnzncpNdPq9h+EnNuFcs3iu+4aQq6n6lA1qwyOMKdU5EMb8jLRcN+46h4B2xxVPLA+WAqEpdUoPUPVyCztBZb5PcsvtrYrjnJIigJREBX3FiEojuKYL9KvkuCXbagKYcbr9DnD5XluuWm9ViQdptazx12+NckAo2K+ako3LQXU24qR21jPSpvTUGv3K6ZC8Mf47fbUDy/FM6E5aiuKUf2DBEItVchK08ENSLImrVkA07+nViXnDdbBJpqnjlU8ejLiePx30nIfage9Q8VoSAD6N7jGv21drABC2cWwjEpD9WPG9eT57VWlM0vGHqrm+L+b1gkArWvN8B5eg4K5DkT11LR7eL6e8O0jSJoy1pQhoYuC+YVqutnaZKxz3MitUYbev18xjjHt6WJsyRcZVfnqUg8b/QpRERERGNDG0ePPPKI9rWvfS3s8MQTT6ilxs6Z1pXa5Js3ayfVe8Nebc3UydrkyVO1NXvk+zNay1flezF8tUXr1ZcR3jukvfiLzdqj38jRZunLr9I61KyJrOMuua1ztQ1vqgli77d9WU6bpvbXp0NbJff5ruC96v95kzc3aHPFZ+Y+cUxNkI5pG+bJz0zWpol1+Y+f0Nu6TJ8+0Lzp3+lWU6TAuiZnrtMOnVGTld62Vdo0OU+cp8As9Zl5D2t7zV8g9L5gLD/re4fUFMG3Dzcv0qbf/Ki29201fRD6tSQ+N01898mzaqLPn1q0ldPkdq/UWt5T0xTjeA792om0fOTzckbMm6pNnrpM2/YnNcnHtUFbEHq81P7L62HVC0FnRGtZLqcPNG+69uirapI87pli2tQ12oshx+PM272m8xNZ2H0V58zYhrnaw13BJ/RQ/Vx9XtD5HMDeymn68gvqDw28PW9u0x5+Yq/WG7If3d+ZpX9+1QtqgjTY9eM7viH3FREREdFYGdccvLfffluN9TfQvGh5/7oitP97EWzqve6wE079R/dMzJstXy0o2HYKx48cx6mfFsAqJ/ldgXnlT+NfctTb85INRRtqkQYPGu+qwf5Bc6pGKgPV384OOn7WW4tQoI9l4/F/C5m3MA928ere93qY4nxJqPz3SqSEZHxYc7+P6nQx0v4s2n25ci83oOagBSXrapERfPJgXXo/SsTJ73E4+jU049o3Bd//RTUyLlcTBuRG07+3iVexHz8qgC3OmOp3ZQEeeyRDjLShqXUohROjyN2Chme8yKjZ1L81yhl3YfVS8druRKcxJSC9Gt9fGnRGUFBonC0sfRybQuZlLtXPFrq6TfsnO/TzHsOpkBxSy+VWIxdrFCx31qM2PfiEphSW69dMz/79g+cQnm7Fuic9Yj/rsX1NysDbc00Rau/PgDXkvM7OXqJ/bv/h/kUsh3f9EBEREY2dcQ3wPve5z6mx/j772c+qsbFjvS4b9hnBSTv3nk6jjkxmHjJ9LRvGWWC1hSRKJ6XAflsesq+39Uv4DU51Ih71IaS+0lBdU46nv50CvFWH4vX63kefZQ7mhAYY4rjqZszD7NBWJG1XIEG+vu0Jk1i3Y54sRtuPDfMzZbjeg5MqzujpcorPe9GYE+54LUCdXC5cz+L5IvgMCQgj68befeJl6QrkRviM7aYlEEcYzq5uY8J4edUJp3jpqkwOs/8JRl02nJH/BLF8aU7wDx+Sus5TMmb3C4hsNv1s4aS/ecgk5H0tTbyKa31uFqqa98M9aNQ1dPNmX6vGTHzXTM/Jwev4df4//V6xf+2W/vsZTp8Xrs5WNKwtQ9mKhUiemYj4JY2RA8lhXT9EREREY2dcA7ybb75ZjfV30003qbHxtbdTJodFIvameUNL+I1IGu7f1ozmqA/3izWPTMr9W1B5FeD67p1j05faNUmRj6cI9EIDhgFdl6IHS+FYp0xRYwajnzlz3bQww239c3BsSVersSE46jLqX1oHyJnyBbNjlkMaXs9ho2Zo0s1h9ts/mOrrKUlXDnD1+/ZlEEmlv8WRn5bDHteFhvsWIDkhIXzDNiOQYBvd3dlz1OgAckjrkQ0xiW1PzykWgWoH9p6egSWLS1BfVxDxmh7W9UNEREQ0hsY1wPv7v/973H777bj44sDXTpo0CXfddRdmzpyppoynLnTqDXhaYL8xJITweqLYd5UNs2/LQ17Uh9kjD0rjZqP6Kdk3Xjeq1rZiRGlwTy961eiYeqc34vb5AjpfblNSinEe592zERs3RBgeyu533KZMGUb2y1VJ0EvzesLlNgazhASgYy3pGn3LcPWt1eH3XR+KjO0fA7bcWrT/4V2cemU7KheLq2vAhm3GT9JVM/RXz+nBzpgLNV+pQldcNja+fgrvHj+Cfc9vEcesGiU3XYtIZ3NY1w8RERHRGBrXAE/6p3/6J2zatEnvHuHBBx/Exo0bsXDhQjV3bHk6q7BwZjIW/lC1f/laB3bo6T1f/bsA58PJyNoc482Z36D6xttZigfaT6qJwVK+KAMmF1xvGu/N3F3OwYvGRYO7G6+Hi/D6nHD8UrzaslWrkiIhn5Qk/vWi49djVPRUikvDHL3l1R2Bun8h3Lt26EV/szPGKpSKYNrVevDq3NU5aPA5liwzslH98yN4aY04H54mPNuv0t84+8LVkFeG47n2gY/LUQfa3hKvt5ag6JrgnEvv/r1GcW4iIiKiCWzcAzxJ5tqlpaVh1qxZuOSSS9TUseZAVU4Duk+40f2CU29kw/VCixGgXGdHhrlOmKcVDVvnoTxfJgljma9vPC9a76sKW58vaYYRoDQ9HZLL53Hg4e+NVy+B4txVtsETVNzRg67vVqBRpNZTygI5UpalJXpffz0/vBN1/fpI88K1uQpNoy6SmoTl98jmPdrwQEmr0Um+2TttxrGxlmD1rUMr3jhcU6bI9fagJzTCvr4Iq2Xw2f4AStv7R8WeXRWo26XeRJUXnjCV7mxXGHmlnxh2vdUou64ElZniVRyXO7cP8LOE2E79jL15LPjHC3G9l35zBDVeJ1mN4rD/PYR6gkRERERRcE4CvHPKkobymiIkiUT4uie9sMmSVUd7cMyXSH+nCzV5pej9wcb+rRDGIl/feB5P+GKQix9E7fXidWcxEufmo2p9IxrW5iP98/l4/57yiHXjompGAbJdhUhMzUVxbSMaa8uQPzcRWbKBmPRaNJeaAvFJ2Xh8m2z9tBs18xOQvqIMNSI4bVhbjNyZ4n1lJzxRCDZsdzRj++1WeNqLkfy5hchfXYPGZxpQtWIhEj5fiNbTGaj9VT0yxiiwmZ0hzpkIqhqLslC2XnzvEl+AnoTyJqOV1NaViUheUizOWatxzBYkIHFZY78WRKPDjaZbEpAwR5yjtQ1olcdiVRYWVIpA93rZD6Fa7Jyxoein21Fg9aBtVTISFuSjTFxLbU/XoGxVLlKXqD79rlqOu2QguK8CyeJ6r3m6ETWr5fVeDFSM4Hq3zUOGzF3uLEPOiho0rC9GcayXDCAiIqJz6gIK8LJR/oMMoO8YWu6ei8SZa/CJH72CA7+qRUZfI3I/l4zkmSLhN7MU7ooD2H13rOfeBVjzN2GjTNSGE5eC8rbdqM1NgfWoAw3VFahqdmPetiNo/ufhddI9YnFz8C8dB9C8uBeOxypQ8cMmONxpKKjbjeMdItEdEkRZl27BkdebUZ6ZhJ6dTah7QAQ5mx04+YVybHzpeZSr4pyjY0V24xEc2FYO+1XH4Nhah4qSKjT8phfzSjfipSO7UW5U+xoTFnHOdtfkwfZOF5qqq/CU2xKoHzajHL/9427U354G7z4R3FYXi2PWgu5LclH78wOoX6yWiyob7PcUIOX0XrRuqkKxPBa7PLi2tBkHwpyjc8KajS1HxHVUakdSjwNNP6xA4QN1aPltLzL+2a7qZYpAcPs+bBTHTl7vdQ/IHM/3kb3tFWzJHcn1noLqjmYUzbbAtbMOVd914H3r2OTqEhEREUkXyc7w1PgFwetx642nWD5lg9VXLLPPC887ssEMC6yyz65BEqOOknjkP1OA7e9uEWEjERERERHRxHDBFdG0WG2w2UzBnaT3eyenDx7cmXnHuQl8IiIiIiKigVxwOXgj50TVzDvR8o7b1IGzBbYrrUhbsxvb77xwinQSEREREdHExACPiIiIiIgoRlx4rWgSERERERHFKAZ4REREREREMYIBHhERERERUYxggEdERERERBQjGOARERERERHFCAZ4REREREREMYIBHhERERERUYxggEdERERERBQjGOARERERERHFCAZ4REREREREMYIBHhERERERUYxggEdERERERBQjGOARERERERHFCAZ4REREREREMYIBHhERERERUYxggEdERERERBQjGOARERERERHFCAZ4REREREREMYIBHhERERERUYxggEdERERERBQjGOARERERERHFCAZ4REREREREMYIBHhERERERUYxggEdERERERBQjGOARERERERHFCAZ4REREREREMYIBHhERERERUYxggEdERERERBQjGOARERERERHFCAZ4FxQvWlfGIz4+Hqm1LjWNzr0eNC4S5+WyXDSdUJPIz7urDMnimk1e26WmnOc8rcgX+7Nw/QS6B/tcqJsfj8QSBzxqEhEREZ2fGOBdSE63Y0e7BfbMFPRsbcF+NZmIxosHrSXFcFxXjadLU9S0CSAuBZX/Xokpz+SjeDtDPCIiovPZRZqgxinGubfmInl1Arb/6mqULmrALc+fQn2mmkl0vjndhYZVa7DOVo3jG7LVxAmuswIJOU0omqD3nvOBBOS2FmH3H+uREacmEhER0XmFOXgXDDd2/MQJ3L4C2em3oMjmRdMvxXui85V7L5p2dsPjVe8nPDcav9sIb/r3UDlBf1ixl1UjxdOImma3mkJERETnmwszwHunC40lC5GcEI/4hFTkrm2Du09M93ShYWUqEuLjkTCnEI0Hz5uU4+COtuCpfUDBbTKnYzZuKbTB+/RTaD1tzCaiMXZiB1rEPZix/BbY1KQJ55rluCsdcP5khwhHiYiI6Hx0TgK8X//61/j3f/93bN68GXv27FFTx8nhBmTNXInOjE3YfeQ4jncUoXdTIZJXVqDi75dh79LteOuPL6H8U22o+IdHECPNOsD1s0a4kId/VDkHs/OKRCKzDTt2BgexsohWfHwCKjrVhBCu2tQw873oea4KuXPkZ41GXBLn5qKqPTSJ2IOG+WL+/AYx5oFz7UI9mI63y/cG71EHGnzBt29d9jK0HY0QbKtgPfEytXzCQhRv7oLnaAPSxfv09b41m/T7TDIWljSia6hVj3YW658r3inGxbp8Pwro60pU328sGWD+zOEmFM40li/bZcx2lMj3xXAYb4OZf5BQ3yOPb2NIJUrPy40otif6l0lIjrAtkYxkv3TRO/9h9TuXDhTLz82pEte08Ey+/3uDz/dQt8t8/L1wNRdjYaKxvNzvMt/y3h60rTZdN+Z5Q+De1S6eJym4ZXFoeKeOi9pG86CfC2m011w/6hjq58LMhlu+Zgf2taNj6LtGREREE8i4Bniyut8Pf/hDbN26FS+//DL+8z//E08++aQe7I0L2VJc0TokbXsFzXfORpLVCuv1y7H8OjFvZyOaspvRXJiCzrULUCcTz95j6ImJHK79aNkqknG5tyB3kpp0vSymCbRtbQn6pd7+tXKRxItUfFOt56py3OUvYiYS6g+mI/XrDdj7qUyU12xB/UMFSPE4RSJUBE6bgpOPPq5NOcjd1C2+SXhfnyQ4UDonH1XbT+LanHLUNtajMj8DltdEQDSnoH8LkyJYX/j5LFQ8040rFheh8nGxfM4Ucf6ykPOvr6uFQojgKneO+Iz4jjm3VqK+sRblN01B9zMVyJpVBsdwzvc7IpEs1rXh7QzcVVOP2tJspL3fjdbKLMxdLUOFME47ULZIBKxqX87InOMBeHaWIVnfRxeuuEnu4xbxPUXIvuIQ9puOh2trLmYtqUDrqTkoeKgeW2rKkWk1tmXWfRG2JZJh7Vc0z/9QXQH7HUUoui0NFvn2KjuK5HsxLL9OnyKMbLu61y/Gwic8yKyo1a89m6cbTSvnomynCKqWpKJwjw1F35bz7LCdVvN2De3odneJe8qWB/s1akIoSxry1H74BvuVap7PSK65YbKlif2GE85Y+XWLiIjoQiMbWRkvzzzzjPa1r30t7OBwONRSY+dM60pt8s2btZPqvWGvtmbqZG3y5Knamj3y/Rmt5avyvRi+2qL16ssoZ3u17p88qpWWl4rhUW2z85hY+jzgXKNNFfuzsjV4a/dWThX7uUjb/Cc1QXdIe/SLcv9XaR1n1SQftZ65TxxTE8TRemGVmDZVW/aT4KOqnT2kbciU61mptbynpmnHtA3zxLQvLdIWTV+kPbon6OgKHdq6e3dox0IOam/rMv18mL83sJ0LtHVvhHzg7R3aqmlyXuhn1PfPe1jbG/LVvWI/ponlZ33vkJoyALGsfn1Mnq6tagtZ0ZlD2jp9v2dpj76hpknqM4tuztGmF23rt48dd8nPiGOu3uv+tE3Lkd8zbZW24201LZw3N2hz5b4+sjf4ehXvOu6a1n9bIhnBfkX3/Efg27+gcymo6ZPvCjpquuFtl+/4iyFzg3bIfN2/+qg2Sz8mA8xb3jKE54Da97DL+q7LDWIsglFcc6teUO+DdGir5PrCfedZcf+Ief2ONxEREZ0XxjUHb9++fWqsv//6r/9SY2Pn/euK0P7vsmiiyWEnnPrP3pmYN1u+WlCw7RSOHzmOUz8tgFVOkvpcaFiShUbcgsqqcuTZulCTk4qERQ1wDZILc645f9kEL7Jxy1Jf7oYh47YisbddeGq7OTcjBSXlGeK1Fc+q4oM+xnoycFd+kpriRsumVr3RiE2FIcXO4lJwV7ms79cGZ2gp3MNdmPKDn6P6Bv/RVbJR+aM8JAVvJqwL82AXr643TP2GvfwUGt4Ckh56GpX+XBvl8jxs+rcwrSq+3ICagxaUrKtFRshXW5fejxKxCz0Ox8DFBc1yv49NuSErsqSgsqZEHNceNLX274iiy52Bn28p6reP4ex/ugZOsaaSn25B3uVqYhhdT9bAZSlB/bczAterzorse0vE9d4Dx2+GvFfD2K9on/9oGeF2yWNdU44Uc+uR1y9H0Qw5YkPlE6HzlmCJPI+/2TuELkdccB0UL1ar+JZRGME1N2xxFnxCvATdb0RERHTeGNcA78yZM2qsv4HmRYv1umzYZwQnr9x7Oo16PJl5yPQVXxQJHKstOCHm3lKKddMeRGX+bCTZUpBd1Y7/u0YEOvuqUBihuFeAqu8S9SFCnS2z06146mkRwS5dESie6XODSLyKnXQ91WQcA8WWs1yEcSLEaxaJZGOSCHAdaJLryb0bRf5iY91wyrp4+yr0jqhDty9hlbF1/YshFqDo1kiJey/crznQWFuGslW5SJ+ZjITkMhHoBOvpcoolLVhyc/i+xCx/ZxehajDjM1405vTf1vj4BaiTZVWHUVww7caM8In1L82DLMHqPnHSeG+S8o3lmD2k5ud74NwpNshShOUDtrjYg72d4rx4G5HrqxtmHux1ehFc7zB+hBj6fo3F+Y+GkW7XPMzudzlZYNHPVybSUvUJJjYkyeKW3r+h15gwIPmES0nx/TgyMiO55oYvBSmy2DoRERGdl8Y1wEtOTlZj/U2fPl2Nja+9nUbokHLTvOCcvRDd/9UFz3PFKNwSCOZm/3ORHkS4ftEmktkDScP925rRHPXhfrHmgXl37kCbHNlZHGiUwT9koVFGcG81oeU1uZByZRHuzhWv7TvQruqkeX/ZhFaRtCy5uyCQwDzqMnIuTHWgwg396hHZrsbV4YIcjwNlyQlItuejYn0HOt68FPMWL0d1Y7kecJq5XDIkTRLBtvF+KIwcCQvSbgu/nfpwW0r4BHQYM66JkFifZA3JSQtIShpqAl/l+IjvGHgXXXhdLhem/pZ5CNRNG9yQ9yva5z9aRrpdSMAVAxxsI9Abpbihn4dwRnLNta4Ive/lkC/uZyIiIopJqqjmuDh8+HDY+nf33Xef9pe//EUtNZ5C69+ZnOnVek2VZXpfKNXmXrtAe3iPaaKvDtBAdWfOqZPati8bdXNy9HqDYYaiBXq9uqnffFF9RnnBqL+zTK+3d0ZrWS7W88VHtaAaaqquzuQvbwup1xjJQHWNfHUf54pjHFLHyPc9prpW3d+Zri+7zqUmhNrTv77gofq54c/1cAUdmzB818W9prph6jPh60OFq4N3SFv3JTFt+qNat5oSnlpu6hpxNY/ScPcrqud/AOp7h1wHb9jbFaEOpE5t87DnhVJ13sLUFxxOHbyRXHOzbglz35fnGPUHw36nei6G3VYiIiKa6MY9B+9b3/oWZszQK7Xo0tLS8NBDD+Ezn/mMmjJ2PJ1VWDgzGQt/qOqpvNaBHXoZRF/9uwDnw8nI2hzIl7Mu3Yh9f/gtam8I/ALvfdWpF2203jQPoyt4NUZO7ECTLKq29F/QumEjNoYbtj2mF9P0NrfDaS6ytrgIJWK6o7UdXncLmnYCSf+8PLjYY9zVuFrmeHQ60Dnq1kY78f/axct14ntD62Yd6BZzg9mSrhX/utDxm/Btubt+3REoXqoYuWdedPzaXCB15Lq7w9d3cu/aoV8X2TcPWLZyEEm4Wh5scex3yBy6iMRyXxAv3g50DLjc0A15v6J6/qNoQm5XCubIYo8eT7/rcjhGcs1l3B3mvt/QP1fcr+8k/iY2MuWLQXc7ERERnSfGNcCTrrvuOjzyyCN46qmn8B//8R9Ys2YNrrrqKjV3LDlQldOA7hNudL/g1ItUul5QXQRcZ0eGuX6apxUNW+eh3N+YSBiy0ZV6h4juCrDlWxGTSudUz/an9H78sgtyByh2mIHld8gIrxFP/dKU9Iyzo6hUpJJ3NqHu6VY4xXLld4Qm+GajqExOa8MD32yDJ7RO0zsOVPxw0FqCfrJhBxztwTHzeuRx/j9GPTIzW0ER8sRrV3Vpv+4TvAfrcOdj/QvNWpaWoEDsas8P70Rdv07svXBtrkLTUfV2CNzr1/Rfz4kmlFaLo24pQElIozbDY0FBWQms4kqtu7dmgD76LMi9QxablcvVwdVvt1xoXNs0SBHiYEPfr+ie/2GbZMUV8vW/T4ZcH+d4u8JKQpIM8F49hMPGhBEZ22tOUT+ozI5UHJSIiIgmtHEP8HwuvfRSxMWNZUWcCCxpKK8pQtI7bVj3pBc2mVlkDire6UJNXil6f7DR1JhIf65Nd6LmRB62/G4LsiNVfjmnXGh6Sv9NHysGSfRl/LPs+04kh59rD8pdmC2CqCQR2tU95gxpXCUgqbQZtdeLmPiZQiTOzELx2ga0Pl2DshULkfD5fDQOObLIRtE94kDKxkLEesrWN6JhbTGyZqaj5SvVKFBL+U0qQG2dCKy9DpTNTEbWqho0PtOAKvG9V83fgBnfLu/XyAomZePxbbJl1G7UzE9A+ooy1IjgVX5P7kzxvrITnmFcktm3z8CG+Vdh4YoqNDwtvntVFpJnlsHhtaFo2+PIDm3UZrhuqMfumjTgtTpkfT4ZuavE9zwjt7cM+fZElKkOrC1LH0fz7eLYvVaD9M+lI3+1OharcpEs3lfsGXJX57rh7Ff0zv8I2OYhQ/421FmGnBU1aFhfjGKV635OtyuCtC+Jc+nuwuvhM52HZMyvOcHd3SUC5jTMGayCLxEREU1MqqjmBeHQxkXa5E9P06ZfO12bNnW6VtrWq51xbdAWfXqyNlm8l9OnTp0rpg9cc0f2mTY9bY3WMVDfZOfaq49q02UdmyHVQ+rWHp0ulp2co20LWviktvlmOX2qtsapJoVztlfb++QqbYHqe04OU6cv0FY90RHS39sgdY3Eejq+l6PN0utFimGqWMeTsm+3yPWXevds0Famyf78jM9My1ylbe7q1TTXuvD1toQzb+7QHv7yLL2Onv45cU3M/fLD2rbuIfbLZqpP19tl/v6p2iyxnh1vhqknZfpMOJHrgMl93KytyhTXZsj2dgT1X3hGO/aLh7Uc07GYPG2ulvOtbVr3UK/TkeyXFK3zH0mkOnjSn3ZopX+vtlMcl5U/M13AQ96u8aiDJ6j9yPlx6B059Dp40bvmIvWDp+rtDvccERER0YRxkfxHxXoXBK/HDY8XsHzKBqvv1+4+LzzvyLoxFlgvtw7YWp5nZzHm/uu1eL6jEil6xlgPWje5kFmaPUhrhzSu2osRv7IV9g1H0H5HlM+MuAbiV7Si4Nl3sWWpmhYLYnW/Jgw3GhclowL1OPIr2T/hMIzXuTnRiKyZFUDdEey+m080IiKi89E5K6J5rlisNthspuBO0vu9k9MHDu5wuAHLnpiD53/lC+4EtxNN/+VlcDeheOFoly222JCRxjNDE4UNRRUFsOyrQd3LatIE43zsEXRZCvBgaAfxREREdN644AK8ETvRisJFVdh/dANyUpORPFMNc8twKOlqtRCNnx40rq5B1zvqrYmnvRTFz3iB61ej6Ho1kWgCsCz9PuozPWj8Zh1coY2/nGuH61DxtBfZP4pOXT4iIiI6NxjgDZHju8Vo8wBetxvuE6ZBTEv7YqDbBxo/73fJxkfikZxTjLLVZfqQvyABiStb4bHasfGp8onZfQVdwGwo+ukWZB+swZ2botNdR1T0uVBXVIOTt2/HlvwJ2WoUERERDREDvCHKbnwX774bftieH4WmyWmYknBXUzMql6YBXa1o2tqkD53uFGQ/1IwDR9pRxLibJiJrAbaL58Zv7+/Xzuu5E5eCyt+9i+ON2WB4R0REdH674BpZISIiIiIiilXMwSMiIiIiIooRDPCIiIiIiIhiBAM8IiIiIiKiGMEAj4iIiIiIKEYwwCMiIiIiIooRDPCIiIiIiIhiBAM8IiIiIiKiGMEAj4iIiIiIKEYwwCMiIiIiIooRDPCIiIiIiIhiBAM8IiIiIiKiGMEAj4iIiIiIKEYwwCMiIiIiIooRDPCIiIiIiIhiBAM8IiIiIiKiGMEAj4iIiIiIKEYwwCMiIiIiIooRDPCIiIiIiIhiBAM8IiIiIiKiGMEAj4iIiIiIKEYwwCMiIiIiIooRDPCIiIiIiIhiBAM8IiIiIiKiGMEAj4iIiIiIKEYwwCMiIiIiIooRDPCIiIiIiIhiBAM8IiIiIiKiGMEAj4iIiIiIKEYwwItxjpJ4xMeHGRKTkZ5ThoZdLnj71MIhejZn6cvmNrvVFKIL1Gs1SI1PRPFOj5rgQdf6QqQm+O6nhShrD3+feHcWIyE+FTWvqQmKp11OX4iGw2oCERERURQwwLsgWJB2WxGK7lBDvh0pn/LC1dmEqmXpSJiZj8aDXrUsEQXp24+ar9XBnb8Jjy+16pO6HpyFrOoeLPnpPhw5sg/b/xloWjkXZbtC7qO+LjxS0opL79mC6uvVNMWa+zg2Le1G1VdqsD/CjyxEREREw3WRJqhxikEyBy//mRTUvr4P5deoiT6nXXB8rxT5m7rEmzTUvvJblM8wZpEXXZsKseZfr0D18Y3IVlNpqGLn+Lk3ZyG5Eqj/w26UXCkmnG5F/meL0Vt3BLvvthkLwY3GRcmo+MwWnHq2ABY1df93U7HgaTu2HxLHYJKaaHaiEVkzK/CJDUfQfodvXUREREQjxxy8C9mkFGT/YDeOb5MJ0m5UPdAkkqlkcGPvTxzo9pxR72l4YuT49TlRV90Fy53VRnAn7d+LTqTglsXmgMwG+z+lAD0nA/fQ4ToUP+ZGwY9qwwd30pVFePB2C5zVdehiLh4RERFFwYUZ4L3ThcaShUiW9WcSUpG7tg1umbjydKFhZSoS4uORMKfwgim2aL3t+6jPFCOddWKfjWlEJOxpR5PXgqJb7WqC8J4X4Z4M77/Xq8akHjTcVQPX0k14PNco1hmeBdmFRbB4mtCyR00iIiIiGoVxD/BOnjyJzZs34/7778cDDzyAbdu24b333lNzx8HhBmTNXInOjE3YfeQ4jncUoXdTIZJXVqDi75dh79LteOuPL6H8U22o+IdHIAsvxj4blt8hC9H1oKvLlIe3s1hvQKJ4p3rvYw6QZQMT8QlItlfA0S/7z4ue56qQOzdRLScD6mQsfMDRL6fQ83Ijiu3JenCtL3dZItJzqtB2tH9S2mg4Jh0NR9UEs6MNSBefT1/foyZIIrE9X3xmfoMY86BrczEWJqrvkQF+rQMeU+6Jsf5UVOnBbivyfdukf34g5u+R+14W+B5xjFLl/pxQi4ZSxzTxMrW8PE4ljejytenhYz4nh5tQONNYvmyXMdsw1OOulpuT4F8ucW4uqvo1FjIGx8/bA8d6sZ7kwHfrDZU8J49cGGL5trW5gUZNLktWP8w4UCzflzjUgib9PqOuqUjnIIyu55vE9uQi+0Y1QZqdATtccO4xnxw3ftcpjtvsFCTJd1vLUPWaHRsfL8BA4Z0uczmKLF40PX9hPG2IiIhobI1rgCeDu+9973v4z//8T/ztb3/D22+/jV/96lf4/ve/D693HHLL+lyoK1qHpG2voPnO2UiyWmG9fjmWXyfm7WxEU3YzmgtT0Ll2Aer2i2neY+g5rX9SEQniXQ2oWl2GstU1aOyM3ALl+cbyd3akiFdnV7cxIRKPSFDPyULFMyeRlFOJ+scrUZQ/DzjghMt8rMSxblgkgpqvN8B5eg4KSmuxRS57exrwhjhuajHZGqHzwVQkLqlA6x+uQKZcrrEW5YuvRk9nAwrnJJtaLhytk2grmYWs+h7MuKce9Q8VIMP6/7V3P0BtnHfewL9355nqLsVyrwfK22Lj+pAVu7ZxUv44OYwuMcHnBnByBpypCZdCoG0ApxeDm5hwSU1oL4bz2RCamNrTQun7OuC2B3TignPtiWScgu9NgpM4lj3JoaS5QZ7kfZGnGZSx39n3eXZXIK0kELbAjvz9zMhCu6vdff7sen/a53nWBcczBVizZ/ri+uY75GA0+UhRO1Ilwe4bnOY+21Tfqpl5MXrwbqwtG4blPi2PCrPMWnrWZqPdGJiKQC1P5umxcay/Vywv03/nEowerUH2mioMBtRB3SeDqNpUNRWsTPrq4ZzyPU1dbvjzWahuOKLmh83jQOsOEQy2hQplo5d/gzvXoqC+B+O2vKltp5tG0fkPa1H4U0OAKeucdS2K2xzw3loolm9G47dSMHGkGKkPvyBSEoJIR80G+Z1hLLmzGo3tzai914YJWQarNob+cSCIC8PDIse2/B2yFumTJEsRqovNIg3b0DDkgtvtxODuAtScSkFjTY7Ydg8qdzqQ8sNnUeJr1jmjdci4U9Sa34pjSJ9CREREdMXkICsL5bnnnlMeeOCBkK/u7m59qfkz2bNDibvrkDKuf9YMK7vi45S4uHhl10n5eVLp/ob8LF7f6FYm1GWkMeVQzhplx49HlbGJCWXi7Q5lR6JY5q4W5ewlfZHr0EC5TEuq0vKuPiGcd1uUVJnm8gF9gvBiqZoPpS/qn4WxZzO1vHLoE3wmRZ78Uf9bGK5NVL+b2XxW5Gh4apmI5RJFXo8b8/EP3Voex+1Quv3WPWOa9HSkHhjTJ0hjSkuG/E6cEl/UEbidiV6lVC3/wG1Mf6dU8cuRWUxvJy5rn3LWkPCJvlIlUc4TaZ2epX8nY48yPF3ZVBMi/+Xya54+q08R9DLZdFeuklzSoYwZthFxvov1xIty3PazwKNBuXRWacmSafDPj+jn38A/Vyq97xozqFvZJvMno0V828d3PCYqpX2GDJo8q+xT91W8/Out+M5AebwSF79N6fiDPsnH2aJkyuUDyiCcAaVULJv81Kj+2c+lcaW3OlNJ/IK2/fi/KVUOjcj9E9v+jiiDr+5VRudwXjjbnBo2r4iIiIjmYkHv4L399tv6X8Heeecd/a/58+nqEvQ/V4KAserOOeBQb2tkIWOdfDehsOMCPjj/AS783K951auteOJVFxyvjcMi7/yJde1+SKzpVB1qbqTnxF2WmeXF2AXDfROTyBPfQBKf9GDf82J+WjOO7Zrprpcbnc/1ifcc7P9RISz+d0mkLxfiX55IF3/0obMnGnmcjqf3i/L33445H996UO7hMM5G7XlkSah9rhY2Q8LNeT9AfZr4o/8F9Pvuyol61XDGhIp9jUg3tOUzb3kEFaKKuQYHp5s26kbc6fjFkRIk+W9jDvne3dYDb9rTaCs2jNy4yIbyatlctw+OoD5h0cu/nO89i/wVxgzKQr7sC3rmjek7We5udPaLd/lIAWNfNpMNtQdqA49nSXyn9agX6Q1twXfQVpZj5xbx3u/AkDYlvPedkElasiREI8tFFuS3vIwP/s9FXLx4ERdeOYKKNLHcq0+grAuo+HE91i0yNNNNWIvigyMh7ziaTDIvTsMZ0Z1FIiIiovAWNMD7sz/7M/2vYH/6p/O/K+bVObCvDLyodJ8c0i4ms/KR5QtQFplgtpgDL5AXfQ6fE2+e/x6fukD73OeXqO8Tn0w3fAtN7ycU9VeZWHOUeCYgh4iw2WQPovCS8kqQIt4HS1OR/XgnTrtDpH3oN+p+2R/YGnzxHWAUw6fE25btCDcOheXOzZE1HY2EaT3Wh2gyZ/my2msKY+Pa56tnR4Zs9hvEgg1ZMkdcGNfjVdeIQ4TLXrTnhirfTDTJ5T7VlvVn+2aRCCD0Dz5zyHeHjG5O1cAatM3FSCjVatVUs0+fKOef130ag4cbULWzDHmpVlgTrKgyRl2vOeAQb/a7s0IHrLdmQMaEAfTvjNRag9Im+0JqfUojGN1TpF/W7nUrZj4mpsjn5ZW3A8VH8PTtIkd+Woi1/zCApCdfwZvn30R/3XI46rNRbGyCKiSt4PNJiIiIKDoWNMBLSZGhQWjr1qm3zxbc8JC8FBQXzHdmzHxRnNaI8/91Hh8c9d0BdMPxogwNbSjaMtsFYAoe6ehCV9Rfj6jBVjS4hvpEikyw3yHDqRmsqMbL73ShWlxVj7RVIdOagITMMrSfmr4v4XpPu5WTYJk5zMB7TsiujjAbgml/IthWRaOvo7hQn2WPomO1TQ1KQzEv0X4U8HG+LeuQ4UH0xleIvn9JScF1bs75vsweenv6y24M5qKWfx4MPmxFgjUTBY+2YuDEOXzujs0oqjuCahEY+Ys4TX5c59TUIemu0OnSXnbcrC4VAWMgHYbzYBmaLhSi7Yc5orxG0LTbgaRdv9D6+1qSYH+kH0fuBxzPdwfdkSUiIiKKGr2p5oLweDzK9773vaD+d42NjfoSC83Y/86P7FMWtpPOpDL2sx1KYlyikvsTv/5R16GI+uBdEvkg+7rF71L+w7/f0IvBffAC/PGsMvD0NiVZ9mkSeVE5qGdYn/a9bT2z9HK61Kv2cYormqE/lN6nLr52WJ8wS5pe26vuT8g+eAF9u6aNHZD9n4zpnLkPWWj6d5L3KiF6bam0fc9UWlzaZ63vVYj6F85MZTLXfL+nw9AfNZzo5p+v32XqE8PKhKGfWu83A78z2bNNW3efPsFovEPJlWnx74On50PuTyJLXVgh+3OGIZaVffu29ej9BF3aZ2M5aXkVnCfjP8kV0yPoK0tEREQ0iwW9gyebSP3TP/0T7rnnHqxYsQJWqxXbtm3Dnj179CXml2eoDhtXWbHxGe0Xfrw+gN6A/nfTHHusyD4U/Du763ABrKvWIvtxB2x1v8Dh+2e543Xdk3dTtqHdA9j31cIe4d0KlXxQet0xnHfUIkmsp7NHb1/318vVoeIHf9XvN2pjCItSsF4dwbR3uk+agftEr9qENid9uoBsX5V57oTzXe2zP/eIA9e8R6R7FG+E6mh12YHBfxPvlhzYl2mTtDtxXgz8dqrX2ZWLON+XY7m8ITY0iKEw+T6fhgZlv0sbSr6ZDnNAfTuN0Zf1P3WmLy9X7172/067027kfXlQbY4ZIHG5eqfRcWJo5nyYzQobZK2bmAhVmP7c6NxZh9GsZ9FWoLc11pt3RmriY9m+dR1sK7TPRERERFdqQQM86S/+4i+wfft2PPXUU6ivr8fWrVv1OfNtEHW5rRj90I3RFx1qEynni91aMLDajnRf/zvJ04PWn2aguiC4GVzSQyKgeec8zv/XWyh5LVsEqcXomcNzta4n3nMiTzYtRcFRD8z3H0PXg7M3g/N+7A5+NESCRWu657tYX12BWtkxqv9RPHRspnArCUXflg+Q7sOjFT3aw+b9fdyHPU+PAOYK7Lx3upFi0kot2Os83BM4YIVnUFs+Kkww/5V8vzDVXy5yIl9r+wKeDScD6ZHv16BdXPXbqkrUwEEybalAoUia65mH0BT0YH0vnIfq0BnpwBsR5/s6lFTJIFnk+z8a91P4eBA1z1xt784Z8k+tJy64/qB+muI8WKn1OfR3ezmqRTDsPVyDOr9mwCpRPyofl8Giwa0l2Cl/OBD5UNkfHJx5TtSgKeC5geEk4ZaVInw74/94iWCe/j2oGUpBY4vfAE7LtOBw5DX/wN2LkRHxOctuaFrtxWk5feUtaoBOREREdDUWPMC75kwpqG4oQZK4ONz3vBcW+YP7ey6M+S5yPx5BQ34lJmZ7htUiM0qKC8XVXR/KvtV57e8azciF7u/LZ/dpr7LcNFiXLkZCagFaT5lhb3gJb7XnzP5AZsHdlYuEL61FXmkdWo+KQPjxMmT/bQ1GxCVr43fl6IuSBSU/P4ZCswd9pVYkZBagqrEdfXJAjdI8rN08/cBry4NdOHa/WVwkl8H6pY0okM8XPNqKuu0bkfAVETx/ko7Gf29Guv+dnrt3o/FW8X68DEtFGuoOtov9KEDaVwrw6berw/Z/mxsLMm6Xl9sOVN1TgIaDrSiraI+s79TKQuQ4i7F0bR7KRLrbG6tQkLoU2QfFRXxaI7oq/S7jb8rB/g45WusoGjYkIG17FRpE4CrzNW+V+Fw7BE/Ed1Ujz/ekyi41Dz1HxX6uykbZ463okcup+V6A9ogSOpPw+ZfzQIVIrxxYxorsna1oP1iHss1WpP2yCPUF6pf92FD7rzJwks/3WyryR9a7djSI9MgfV85V1UMchQZJqO5sFDXSg54dS2HdXCbqSI9WDpkJWLotwnIU206Rg7j+bljrsxjKJyKYf7gHll1tqPa/+7YoB7uftInAXZRB12m43C44Dhbi0X5x3nikSKTH32kM/068padEqe4SERHRDU1vqnlDOPvsJiXuC4lK8i3JSmJ8slLZN6FMOluUTfJZVuKznB4fnyqmB/fdmXDsUyqr9yn/4f8oLt+z467j51dpfb6CX4m3ZCrbnu5QRj/SFwwlRH+vydc6lNIskU++dYn8TL1nT/AzzaTJMaX3sVwlVX2WnfaKT85USn8yauhzN6mM/XKPkvs17Rlu6it+jZL72Az7NzGstHwjdeo5ZHGJmVq5zfQcvDn1IRP0Z5350ppY0j1LnzW/7Riekyb3r/T54D5nPpPv9ip77lkTlK8do4Znv83WL1KKNN8vTSjDz5cqmcblDgwYnq8X/fybGNyr5KbE69uNVzLLD6nPAdTqa4h+eyJ/KrOm60d8Sq6yR5a3rz9hwHPwdB8NK4fK/cpAbCc5q1RpGRwL3+fTSM3v8H0k1ecOJu5ShkOWq8jfAzuUZN/2b8lV9g4aylM6uUvNoxnLlIiIiChCfyL/0WO9G4LX44bHC5g+b5l+bttlLzwfe+CVzcq+aIYp6I6JC60b1qLuDGBreBOnHtHvwBwvw+LtPWJlFXjpQjPkj/10I9PrCRrx5u+r2dxuIZxrQlpqA1zffgkX9s3DEXjZgZov5aGzuB8X9svmxNHneDQBeV0l6P/v5rn1gSUiIiIK4YZromkyW2Cx+AV3kvrcOzk9VHAnWWBbZwKW5WO33yMRTo9o/b1SnqxmcEd0DbiOd6uD8GT5DcITVYvsqK6zwXu4GZ3z0df2w3Y0HPbCVlfN4I6IiIii4sbrg3dFTMhp6kG1yYF99Q1o/1UfehrzcM+/uGCr7Mev/ftUEVFUDdYXo/O94GFOvGeaUFwvwjtzCSq2GJ8UGD1JlW2oMDtQU98XOKjPVfOgr/4JjCyrxRGeQ4iIiChKbrgmmlfHC8+ZYTic8jLPDFuOHTb/O4F0g2MTzfkwWLEYBUcB07ocFN2mPZ588r0B9AzJoY2SUPHrV9CcFckQQVfh9Qastbcj/YW3cGRLdLalDiy04xzq//NlVK/UJxIRERFdJQZ4RFHDAG8+eN0OdDY248e/ckD9bUUy22C/rxz1T1Yg/Yv6NCIiIiJigEdERERERBQr2AePiIiIiIgoRjDAIyIiIiIiihEM8IiIiIiIiGIEAzwiIiIiIqIYwQCPiIiIiIgoRjDAIyIiIiIiihEM8IiIiIiIiGIEAzwiIiIiIqIYwQCPiIiIiIgoRjDAIyIiIiIiihEM8IiIiIiIiGIEAzwiIiIiIqIYwQCPiIiIiIgoRjDAIyIiIiIiihEM8IiIiIiIiGIEAzwiIiIiIqIYwQCPiIiIiIgoRjDAIyIiIiIiihEM8IiIiIiIiGIEAzwiIiIiIqIYwQCPiIiIiIgoRjDAIyIiIiIiihEM8IiIiIiIiGIEAzwiIiIiIqIYwQCPiIiIiIgoRjDAIyIiIiIiihEM8IiIiIiIiGIEAzwiun6814q0xYuRdtClT4gBx8uwWKSp7Lj+ed54MHKwGNa/XKxuL/tQDOXhtRaL9ZKIiGIWA7xYpV+QyAu92V6+C0/XoWz1c16XW5tAFCs+GUSVVdR3ax1GLuvTYozzYC6y6/uAtEKUPFiIW27SZxCF5EHPdnFM2FvhjPox4UL7JrHuv8xD54f6pFjk6UNZwmJsPOjUJxARXR8Y4MWqm2woerBEXOj5XvlIMckZSbAHTC+B/cvqN4jos+ryIPbVj4rgrhmvDBzBsy3iVZykzyQK5jlWhrLjNtT/uBq2RfpEmhtzPvb/KAej9QVoeF2fRkR0HfgTRdD/ppjmQuuGtag7U4hjF48gR59KC+y9HlTt3IuzW36Nlyp5AR5E3nleXwc0vIlTjyxE/ngx0laMXf98M+o/eHZ+jgvZRHN7DwpfuIgjW/Rp0abn28SuV3D+yXX6RIqaBa+X8+yyAzVfykNncT8u7LfrE2PFAhzTAdxo32RFzZ8/i/O/LoFFn0pEdC3xDh7RQnL+Bp1DLnhitJngZ48bwz8bxKhnUv/82bZkiVn/iyg895EGtHvT8fSuWAvupIU+pi0oqSmEaagOTa/qk4iIrrFrFuCNj4/jwoUL+qcF9vEI2is2wpqwGIsT1iLv8T645QW3ZwStO9YiYfFiJKwvRvsZr7Y8ERFRTHCjt3sESCvCVjbPjwrT3SUoMXnQ2ePQpxARXVsLHuD9/ve/R01NDXbv3q2+19fX46233tLnLoBzrchetQND6W146fwH+GCgBBNtxbDuqEHN32zD8JZjeP+/XkH15/tQ87dPQPw3eOMIOdqfbNopAuENrXBd9mCwMQ9rZWCsB8GtpzzaYiJo9gXHQfOM9AB7qT7a3+IEKzZWtGMkzOKheF5tR5ndOrU9dR2PDopLFx+//YYXrl9VYeNSfdnFCVibW4e+cJ3/I90///z6sA91udPpX2ovQ6f/DwS+QW+296gfnfVr9X2JfHRF73tyG2nT+yXSYRXbaX81RMbNZd/CcXciT35H7HPQ0kM12g8hu41HiFcbuGFxMXo+0SdJXhf6Hp+uO4v/cinSZioDSX5np385+P0YYzC3+qAZrJDLymbL8lMPCnzf9VtGFYX6OsVwnCxeuhFlh0YQelWy3tYhb32Ctqx4LU3NQ12/3yBIvnq1vg5ymIfpepWG1ve0RVR6/qdNHQOi7Kz6toPy0z+vPHA8vlHbX3tgvmh5vjR4ffr82Wj5X4ZB8bfn1VYU+6dT1uug88cgyuR8Y/noXAfTxHcN6dbzRx390uNAXaa2jY1tgWsIfWzVYDDUeFMeQ30QZVjlXyY+4nx5ukuUX+p0Hsk6XHwwVJ7rZe2/7NI05B06rc+fdrX5DvcA+k8BtvzNQc0Jp8vEC2dX2fQ50z+NxuMyTPr9y3fKXM9LvvpdEbCWKcZtzMcxPfu5RVhkR9GDJni7+m+sawYium4taIA3OjqKH/3oRwF37lwuF5qamvD+++/rU+bRZSeaSvYhqeM/0fXQOiSZzTDfWoSi1WLe8XZ05nShq9iGoccz0ST/X/WOweV/kWrgbMtDweFQlxqxaBx9D6eicigBRXWNqN5i0y6KNuWKQE5ceK3PRstH6ahukPNSxH/M+jz/iy3pnAgaxLI1x8ax/t5aNLeL5e9cgtGjNcheU4XBGfLbxyMuEtZsrkHPfych73vNaP5eCQrTRf066QwORMSU0YN3Y23ZMCz3ie3tr0VhlhmuIXFBuTYb7dHYvzOt2LiqGIM35aN+v5Y3ntd7ULWhcHoEOd+gN3dp/XdM6/LnNMiN86d5sMqg+eSEtl8dzagtyADe7EHN5qXhR3GLZN/CsWwWeSXej/8GQ4YL0pFfd6p57f3VAAIvQU9j+HfibctW5PlGcRQX1jUbxIVt2zCW3FmNxnax7/faMCHLYNXG4DoiXR5F62bxnZMWbN0ly7gQ9i+64JA/xmxuDww05lQfpt18h8z/EIMP3WeDOkmKQn2d8vH0cVLe0IzGyhykfDqKntpspO6Ul9T+RGC1Ow1r/6EVw5/PEsfVETUPbCIvW3eIC0xfgOKrV/elqPs8Xa+KYPPlv0yDVea/AxMphajd36WuK2ORtu2lm8KPouhsy0Ve26i2b5+qk1SyPqp5fmE9CkWeH2moRpZZW9+ah41pmdm4Wn4tGL+tHI1qHU3Bp6KO1mxKRdWJuaxpJk605ueh9bS2Pq9fep1t2doPUuqxpddPkX8p/+8NOI3l+1EfytZko8m1EhX75DGYDotnFJ07gvfVJdab+bAoP1MGSvQ8ylkmgqN6kUd7AsMApzxHibJ2IEOUtawbJchJEvX9f4/rS2iiku+nR8R2LMjPCt+XUJ4zNx7wIKumMTCNx0emjsuSJ+U8OyyfhE7/jK7mvDSDaB/Tczm3rEsXJ0uvA45z+gQiomtJDrKyUJ555hnlgQceCPk6fPiwvtT8mezZocTddUgZ1z9rhpVd8XFKXFy8suuk/DypdH9Dfhavb3QrE+oyITj3KalimdQDY/qE692Y0pIh01WqDOhTgrxYqqa79EX9s8r3vTglsXwgID8merZp+TTDvOSnRvUpkr6ujD3KsCFjJ8S2E8Xya54+q08JR6wjS6wjfpfyH5f0SbrJjyZE6flM73dc1j7l7PQM1USftj1ZxkHfiXT/9PyKi0tV9owEfuFsc6o6Lyg9+nfmVG/e3quskdvJ2hu0X8rEsLJX5kfcGmXv2/o06Ur2LYSxA3JZ37HhM6rsTRZpyJDzUpWWd/XJ0mt7lWSx7tyf+I6ySWWgPF6U1zal4w/6JB9ni5Ip99G/DN5tUY8ruX+ZzWf9yka4NKH0lieq83b0+ObMsT5ktIi//PnqSajjYo71IZypskhWSvsMK5o8q+wLUX6T4jvxIt+3/SzwbKVcOqulN26H0v1HfZqk51twvTqr7P2qXD5T2WuoByIVyvBTmeq+BaZDT/fXNimbkjcpe08avufb1hPDhvPjhChrWT6GuhjGQLncL/FKLlV6P9In6ibf3qfVja/uFSnwGVBK5bSgMtRoddVQH337etcmJfkucfwYtqOc3KWdB0KcIwL418sDgWUuzyXxcl6R/7lE7M/P9igtxry7JI4dtTxEfZuqrwNKpfx+0P9NYt2iDk+JUr5r+bQtsP7opsokq0U56388ieNaPQfNNM+Qfm1dhuNq6liI8Lzky3fx/0soIbcRtWNaLBvRuUWnXxME/v9JRHRtLOgdvLGxMf2vYPJO3nz7dHUJ+p8zjHJ1zgGH+lNcFjLUwedMKOy4gA/Of4ALPy9EyCEL5J3A8ga1SdSNIx31T+YE5If53hIUqn/lYP+/GuZtzIfsvu8+9cZ0U5ZXW9FwxoSKfY1IN2SsecsjqBAF4xocDNn8KoC8k+AdwwXDr+umL5qnf6WdkoTa52phM8ww5/0A9Wnij/4X0O9bzxXun+mhZjSmBX7BVlytpt91+vSc7maE4jgsmxeJdByoD9ovmEW5NFSIdLvQ+tPgxkFXu29JeSWwiaV6B/3u073ei053EvIb5HqcGByabqzkGuoT5Z2OvLv1o8zdjdajXqQ3tKHEeKdyZTl2ylEl+x0Y0qZMW1aLw7v8fnWXFpmR/6TIA/FnX0//9L7PqT7MQbTqq4+oc215hhWZbKjVy6+zx5fHbnS39cCb9jTaigPOViIPbCivluMC9sFxUps0o6Efo/V9UY672kR9D6o8SK97GhUik1wHfxzctOzcCJb88Beovz3weyPPi3OfqQLNT6Ybzo9m5HynQpxfXRj8XeTn8/wftiH/i/oHnWl1LZ5+SOzY+53ojsLw885TS/CDX4q6E7AdL3oOtMMjalTz/ww+R4S0uhFdj9j0Dxpz3rdQIr/72ln437xJKm5EtSHvsGgdNn9dLnwaTr9GK+pwIG53UPNjs6jDPtHKd6dT/s9lhjnscxJFnRfHdsCjE24tQslK+YdFnIeM8zZjs0zS74YNd/PDm+9zZlhzPabncm4xmdRpp89FXveJiObLggZ4sv16OHFxcfpf88e8Ogf2lYGnZffJIS1Qy8pHlu8/vEUmmC3hLw6dB2tw9u/Ff3L659npfUei/jL0b5hPpvVYb7xAF/mkWpmBdcaLBcvNSJDvH3mm/rN2jTjE316054ZKSyaaZJzg1wwsNBFYPJAi3kWepmajrus03DNeDdiRIZvgBrFgQ5a8eHZhXI9PrnT/Mtbdov/lx5d+13hgX405c+H0SZFASxG23qpPMrojC3nizTs8PH1horvqfVthR77IJvdxx9S61SBO7s/dduSIvHUcH9LL2A3HCXE0rd6Kzb668poDctiBkVpriDxN0PsfhhjtLisj9PH15Q2wq8Xm2/e51ofIRae+Tku5Iz30OeVrGZAtYd0f+prjjcIhI95TNbAGbXcxEkq1o34yTLNKf67XZRosKMoP8+iERXZk5Yp37zCGg1rJF6LkXsNVsKgFw0Mig73tyJvqr+b3sjep5eLfBHJmKchID32mzRD1WtapscBWilemoASFxqRgCL+R9S+rJPLBRm6ziRpnZEHSCvHmHkPQrn7ihONoK+p2VqHAboV16WJkP2+soFnYXix27v0mZG4oQ6s4hoLzL4r5LpdZeUuIdPiI83nQwSeCFzWoy0LKWnWCHz393v+LCW3CrOb3nBne3I7pOZ5bltmgxsBERNeBBQ3wbr/9dv2vYBs2bND/WljDQ9qoV7Y7M8R/UxE414QaZzX2592sT4hECh7p6EJX1F+PiDUvkBVJ4fNHBHrhgmF/zrdlKG1Cyn16v4hQL/++EmEkVb6M8z+vhn3RCFofzoQ1ISH8oBerbWEDcfOSJfpfmivdvwRLRDXnCjnxhhww4ItLDL/a+/EF2iGCjavft3XYKu8inRmEQ73qcqHvfzlhKd4q5iTBvkXM8/XR+2QIfSIwScrLmbp4dJ3TftNPuitEXk697DAeTTZb2FLDEsPdnjnVhzmIVn31WSmOoZBuMgeW7XtO7U7IMnvobeqviPpuqmlYgpmenqBduIsrV2NwYFmO5UEPwNbroykF+SH2yfcqWh1xrsC2TP/TwCTyJVosScv1v/y879TuuH3p5sjO/UL4ehlM9u1b/D/SkFdRh84Tw/j0rzdj87eb0Vxg3JoJOT96Cy81FSLl/R7UbUtDQoLVMKBQlPN9xnN2Am6eIUO0+nJ15vecGd5cj+n5OrcQEc07vanmgmlrawvqf9fZ2anPXWjG/nd+JieUCWMje9n/ZWup0ivb7vv6Q9woffBC9nuZqU9M8Dytj0WIvL4Kk84BZe/fJ6v7HZdYqQxM9SvR9zt5r+LfC9Cf1n8jU2lxaZ/nvH8h88snTN7o34m83pxV9n1t5nRMbeuejuk+PFeyb+Gc3KX2Mdom+7394ZCyyT+P1Hn6Z3Wbycre17RZqj5tP6b75M1CP64C+2760/c9K/S+z1ofgtIc/riIWn3Vy0LNv1B8/Yy+o+/Bpd7g8pxNmPORlgZDmRhox0Gu0jG1sZmOeb0+xu8SZ8+ro203dF8wSesrFqdUDuoTZqm3o0/Jcg/TBy/U8ebLZ0PfsZBmPN+HqEN6v9n4og5lzLByrUwM+zllUhl/rUOplHks922qnkc730P/PxB+XvjjJNy8kOua63nJd2yE7IM3qXQXhdqn+Tmmw59bdOMdSq6Y99m5JiCiWLbgj0l4+OGH8d3vfhdf//rXkZubi8ceewwiyNPnzi/PUB02rrJi4zN6T4HXB9CrNrnw9b+b5thjRfahwAZvzrYavFG2H/nR+2H5hpKUJO9geDHwW/kranSYVuag/hfn8cousW5PJ14wduZyj+KNUL+2XnZg8N/EuyUHdv0Ownzs39WzIeU28ebuRq869HcIQ4PoF29Jt0d4F3qu0vLUPkaDg0Nwn+jHiKkERb6b8bcXiXlaH73TIyLzTVux2b8paeJydZ8cJ3zNOCPjPv1G6GHf9bRa7rKHbGI2a32Yg2jXh9HR0D2U3Cd61WbiOXfJJonCouVYLjNNpHXI0Pdnrmyr5YnNje4Xw6TBdxwsS0dGRJUnCcv/Wrx5BzAQrj7OiTg+Q67HjYE+NVdgv0ObIo+F9bK59Rmn1qw+gBu/9+sLGpFFNiyXx/7x3ul+uFHiOtGnNmnOe7AESQG3yrziOJmpPplgubUEz/7nBzgi+6e+3ok+dZTZ6OW77avyLqQHniineV6ssEH9r9npnGoiPuXysDZi7xxczTE967nF41ab6K5bGerMRES0sBY8wJNuu+023H///SgqKsLq1SE7SM2DQdTltmL0QzdGX9T6Ezlf7Nba+q+2I92/D5mnB60/zUB1gd+J+lwrat4ux37jIAkUMdOWChSKix3XMw+hKeg5bF44D9WhM9SQ+QG84v/R4FDBorcp+vOg5kOi3Gv7DM+d8mDk+zVoF6uxVZVoFxBCdPZvFku+oDb/cYl6GKmcb1bALGps03cagpsGeZ1oqm8Xe2dH7YORNx+bk0V25Nwr3v/tBew57oCpOE8d6ESTrs5z/7Yd7cfdMD1Y5DdPEBerO+Uh3v8oKvuDQzbPiRo0ndA/+DtRh0eNy3tGULdbptWGnQ/4Sm2u9cHIBPNfyfcLU30xfaJdH9wHdwWv58NOVNaPiI0VomKLLxJYh5IqWZZ9ePQfjXVX+HgQNc9E2Pv27m+hQpyyZBoagp4rJ9Jw8An1OLDXVIRtyhzIJIKWQvGvrI9NcAZlixPtj3cGX4yH5UZrTfB63F2VeOKU2Nr9FdOP2xBBjk0t9k60HwtMi+f4HpE+/UPEbKiokcN6iHyu6An5fMUrpjebdr0fWKk8xyvxaNBzLz1wB9VhMxK+LNchXmodjl6+J62QmTiKs5+J4fz1oP71dnQaBttxtml1N1i0jum5nVu8p4fhFPt7iwzEiYiusWsS4F1TphRUN5Qg6eM+7HveC4uM195zYcz3n/vHI2jIr8TED5/1G/XPhdbdb6C8KT+wrwzNzU052N8hRyYdRcOGBKRtr0LDYRFMP16GvFXic+0QPLNekLvRuTUBCevzUPZ4K3rkAAal2cisFRfJt8rnGemL+awsRI6zGEvXiuUbRRDSWIWC1KXIls+NS2tEV6VfEB+V/ZvFugzIMRC9z+9A9s5Wse5s1IUKcPzd3oyXGlLERU4Tsr9iRV5pHVqPtqOhNA/WL6Wh4XULSl7oCh6lMoqycvLFTvegR1yc5t0tL4qnZeWIFL3eic4zYt6dAeGdkITqzkakiIvYnh1LYd1chrqDPVo5ZCZg6bbAZ9r52ApycE4un1smykCkdWcB0r6SjVaxjfQfdqFaDuqgmmN9CGJBxu2yDjhQdU8BGg62oqxC36co14ec+1eiZcMybNwuyu+wtp/WVVUY9Iry69iPHL8fmZIqu9B4q7j0Pyrq7qpsLW2HG1C1fSMSvlKA9kgjqEXpaP53mf+jaNqk5aeW/3oavj8KS/ExdD0Y0e07lWnLfnTdL86ErzcgTdS/gp0NaFfzXauPNSeDA/nwclBoa0Haso0oEGlsP1iHss1WWOUz3Swl6GrKkSHOlJwamRZgsHSpKA89H7enYemOT1FhGN0yEpYHu3BMpMXTXyb2XeyDTMuvZH0T+bNe1Lcr/EEn6d5ydURIObhQ2naxTrXsxH5WALuD9nMYe6ziWLAXoEqco/r0ZfMOe2G+vx4leguDqOV7ynqRh26MjEb+I9O1k4SSJ+UxKAJbuxXZpVpeyjqS9rMc1BboiwWI1jE9t3OL2oIBGUjhSCtEdD3Qm2reEM4+u0mJ+0KiknxLspIYn6xU9k0ok84WZdMX4pQ48VlOj49PFdMNPV9ch5RtYp6cP/VKjtfa4uvf2/Nbfdnr1kx9KHQh+0fo3wvZ72WmPjHh502+26vsuWeN9uwo+RJlknrPHqVj1PBgopAmldGflCqZvvyXr8RUJfexXkNfF7/9vjSu9FZnKomynNXlM5XS54eVCcOzjXwi3r8r7Oc2MdKi7LhFX3f8GmXviD5jFhMnDymlWaKO+u1XZnmLMvBuiB5EV7hvYf2xW9mmblfUH2O+6X1Pgp7N5u+jYeVQuV8ZxMUryVmlSsvgWGD/J7++TrIcKrO0597JV6JY/pDxuWJXUh/0KVP0+uHL18SS7oC+b1dXXwW/spg4Kco+xbev8coasZ7eUOUnXZpQhp8XaUvUtyte8cmi7h4YCOrXNXMfMUHP/2S1z7H2kvkZlP+qmY55n0ll7Jd7lNyptIiXmu8dyqjxWXNhTPfREuk8sENZ49s3cUwEl9809fj5mn+9qFR6/yD2eqbn4M3YL0pPi9865Xk9s1ykxVef59oHT5h8u0Mcr9PrTJZlHXI/x5WBx3KVVGM5hzxHXX2+T+1viD6e110fPN14X6XfMS6Om2+0qM+xC7u/UTmmIz23SHp//jDP6yMiWmh/Iv/RY70bgtfjhscLmD5vmX4O0GUvPB/L4fxN6nOHIhol7L1WpK2vAxrexKlH2Ob++uNC64a1qEMj3vx9NVhCRNeXwYrFKDhaiGMXj6h3tWnhuA9lw1oLNL/zEirm8c7/DWOoBgm5nSj59QU0611piYiupRuuiabJbIHF4hfcSYvkc+/k9AiDO0kEhQHvREREnwGW4t0oNI2g4WDQ4+1pztxo/347vKvrUc3gjoiuEzdeH7yr5kDdKisSUhvUkdyc309DgtWKujmO5kVERHRN3JSDH+yzw/N8JZo+E4OtXL88/XvwxKkk1D7HliJEdP1ggDdndjS+cx4XLl7ERf114fx5NM46mAMREdH1QQ4wc2SLEw3lrXBGcwTRG4mnD4+W9cDWcAz1/o+HISK6xhjgERER3XDMKHzhIi46qmG72tGBb1TmfBy5cBEvX8EIrkRE8+mGG2SFiIiIiIgoVvEOHhERERERUYxggEdERERERBQjGOARERERERHFCAZ4REREREREMYIBHhERERERUYxggEdERERERBQjGOARERERERHFCAZ4REREREREMYIBHhERERERUYxggEdERERERBQjGOARERERERHFCAZ4REREREREMYIBHhERERERUYxggEdERERERBQjGOARERERERHFCAZ4REREREREMYIBHhERERERUYxggEdERERERBQjGOARERERERHFCAZ4REREREREMYIBHhERERERUYxggEdERERERBQjGOARERERERHFCAZ4REREREREMYIBHhERERERUYxggEdERERERBQjGOARERERERHFCAZ4REREREREMYIBHhERERERUYxggEdERERERBQjGOARERERERHFBOD/A/eEYL2DzkvfAAAAAElFTkSuQmCC)"
      ],
      "metadata": {
        "id": "Ikf9C6BqJrpE"
      }
    },
    {
      "cell_type": "markdown",
      "source": [
        " * Intercept (w_0): -227.66\n",
        " If all input features are 0, the model predicts -227.66 as the output.\n",
        "\n",
        "* x₁: 48.27 (Number of items)\n",
        "Each additional item in the cart increases the average check by ~48.27 грн (on average), holding everything else constant.\n",
        "\n",
        "This makes sense: more items → higher total.\n",
        "\n",
        "* x₂: 6.98 (Average item price)\n",
        "If the average price of items in the cart increases by 1 грн, the total check increases by about 6.98 грн.\n",
        "\n",
        "More expensive items → higher bill.\n",
        "\n",
        "* x₃: -2.31 (Discount %)\n",
        "For each 1% increase in discount, the average check drops by ~2.31 грн.\n",
        "\n",
        "Discounts reduce total bill — this aligns with real business effects.\n",
        "\n",
        "* x₄: -1.88 (Time on site)\n",
        "For every extra minute a customer spends on the site before ordering, the average check drops by ~1.88 грн.\n",
        "\n",
        "This is interesting — possibly longer browsing may indicate more price sensitivity or indecision?"
      ],
      "metadata": {
        "id": "o3OMCQQvJ-tY"
      }
    },
    {
      "cell_type": "code",
      "source": [
        "from sklearn.model_selection import cross_val_score\n",
        "\n",
        "model = LinearRegression()\n",
        "scores = cross_val_score(model, X, y, cv=5)  # 5-fold cross-validation\n",
        "\n",
        "print(\"Cross-validation scores:\", scores)\n",
        "print(\"Mean cross-validation score:\", scores.mean())\n"
      ],
      "metadata": {
        "id": "5q-ugejDK64J"
      },
      "execution_count": null,
      "outputs": []
    },
    {
      "cell_type": "markdown",
      "source": [
        "Each value is the R² score from one fold of cross-validation:\n",
        "\n",
        "It shows how much variance in the average check your model explains on that particular subset.\n",
        "\n",
        "The scores are all quite high (close to 1), meaning your model performs consistently well across different data splits.\n",
        "\n",
        "This is the average R² score across all 5 folds.\n",
        "\n",
        "It means that on average, your model explains 93.13% of the variability in the average check, even when tested on new data subsets.\n",
        "\n",
        "This confirms that your model is stable and reliable, not just lucky on one dataset slice."
      ],
      "metadata": {
        "id": "0W86t1wUMdmd"
      }
    },
    {
      "cell_type": "markdown",
      "source": [
        "# Multicollinearity, refitting, and regularization in linear models"
      ],
      "metadata": {
        "id": "FDAtgnoGgpXY"
      }
    },
    {
      "cell_type": "markdown",
      "source": [
        "Для попередньої моделі оцінки середнього чеку клієнта:\n",
        "\n",
        "Виведи кореляційну матрицю пояснюючих змінних. Чи є у нас ознаки мультиколінеарності?\n",
        "\n",
        "Побудуй регуляризовані моделі лінійної регресії Ridge та Lasso із гіперпараметрами за замовчуванням. Оціни якість цих моделей за допомогою метрик MAE, R2. Чи покращились результати базової моделі?\n",
        "\n",
        "Підбери оптимальний гіперпараметр alpha моделі Ridge, використавши масив значень [0.001, 0.01, 0.1, 1, 10, 100, 1000]. Побудуй валідаційну криву. Побудуй модель з оптимальним значенням alpha та оціни її якість.\n",
        "\n",
        "Підбери оптимальний гіперпараметр alpha моделі Lasso, використавши масив значень [0.001, 0.01, 0.1, 1, 10, 100, 1000]. Побудуй валідаційну криву. Побудуй модель з оптимальним значенням alpha та оціни її якість.\n",
        "\n",
        "Проаналізуй коефіцієнти моделі Lasso. Чи є у моделі неважливі змінні?\n",
        "\n",
        "\n",
        "For the previous model of estimating the average customer check:\n",
        "\n",
        "Deduce the correlation matrix of the explanatory variables. Do we have signs of multicollinearity?\n",
        "\n",
        "Construct regularized linear regression models Ridge and Lasso with default hyperparameters. Evaluate the quality of these models using the MAE, R2 metrics. Have the results of the base model improved?\n",
        "\n",
        "Choose the optimal hyperparameter alpha of the Ridge model using the array of values ​​[0.001, 0.01, 0.1, 1, 10, 100, 1000]. Construct a validation curve. Construct a model with the optimal alpha value and evaluate its quality.\n",
        "\n",
        "Choose the optimal hyperparameter alpha of the Lasso model using the array of values ​​[0.001, 0.01, 0.1, 1, 10, 100, 1000]. Construct a validation curve. Build a model with the optimal alpha value and evaluate its quality.\n",
        "\n",
        "Analyze the coefficients of the Lasso model. Are there any unimportant variables in the model?"
      ],
      "metadata": {
        "id": "FekTctYNf1_E"
      }
    },
    {
      "cell_type": "code",
      "source": [
        "X.corr()"
      ],
      "metadata": {
        "id": "IF3h06vchGKm"
      },
      "execution_count": null,
      "outputs": []
    },
    {
      "cell_type": "markdown",
      "source": [
        "Multicollinearity occurs when independent variables are highly correlated with each other. A common rule of thumb: correlation coefficients greater than 0.8 or less than -0.8 may indicate multicollinearity.\n",
        "\n",
        "From results we can see that some variables are highly correlated:\n",
        "avg_price and time_spent = 0.836 → High correlation → potential\n",
        "\n",
        "All other pairs are below 0.8 → No strong multicollinearity\n",
        "\n",
        "Potential multicollinearity  (>0.7):\n",
        "\n",
        "num_items\tand avg_price\n",
        "\n",
        "num_items\tand time_spend\n",
        "\n",
        "multicollinearity\n",
        "\n",
        "discount and time_spend\n",
        "\n",
        "If you're building a model like linear regression, this could make the coefficients unstable or misleading.\n",
        "\n"
      ],
      "metadata": {
        "id": "Ul-KgGEohLoK"
      }
    },
    {
      "cell_type": "code",
      "source": [
        "from sklearn.linear_model import Ridge, Lasso\n",
        "\n",
        "\n",
        "# evaluate basic model\n",
        "y_pred_linreg = lin_reg.predict(X_test)\n",
        "print(\"MSE (Linear model without regularization):\", mean_squared_error(y_test, y_pred_linreg))\n",
        "print(\"R2 (Linear model without regularization):\", r2_score(y_test, y_pred_linreg))\n",
        "\n",
        "# train Ridge model\n",
        "ridge = Ridge()\n",
        "ridge.fit(X_train, y_train)\n",
        "\n",
        "# evaluate Ridge model\n",
        "y_pred_ridge = ridge.predict(X_test)\n",
        "print(\"MSE (Ridge model):\", mean_squared_error(y_test, y_pred_ridge))\n",
        "print(\"R2 (Ridge model):\", r2_score(y_test, y_pred_ridge))\n",
        "\n",
        "# train Lasso model\n",
        "lasso = Lasso()\n",
        "lasso.fit(X_train, y_train)\n",
        "\n",
        "# evaluate Lasso model\n",
        "y_pred_lasso = lasso.predict(X_test)\n",
        "print(\"MSE (Lasso model):\", mean_squared_error(y_test, y_pred_lasso))\n",
        "print(\"R2 (Lasso model):\", r2_score(y_test, y_pred_lasso))\n",
        "\n"
      ],
      "metadata": {
        "id": "TQCkOuXUmPpu"
      },
      "execution_count": null,
      "outputs": []
    },
    {
      "cell_type": "code",
      "source": [
        "# hyperparameter tuning in Lasso model\n",
        "possible_alpha = [0.001, 0.01, 0.1, 1, 10, 100, 1000]\n",
        "r2_scores = []\n",
        "for alpha in possible_alpha:\n",
        "  lasso = Lasso(alpha=alpha)\n",
        "  lasso.fit(X_train, y_train)\n",
        "  y_pred_lasso = lasso.predict(X_test)\n",
        "  r2_scores.append(r2_score(y_test, y_pred_lasso))\n",
        "\n",
        "# plot validation curve\n",
        "plt.plot(possible_alpha, r2_scores, marker=\"o\")\n",
        "plt.xlabel(\"alpha\")\n",
        "plt.ylabel(\"R2 score\")\n",
        "plt.title(\"Validation curve for Lasso model\")\n",
        "plt.show()\n"
      ],
      "metadata": {
        "id": "S2A9vhmznQLS"
      },
      "execution_count": null,
      "outputs": []
    },
    {
      "cell_type": "code",
      "source": [
        "# hyperparameter tuning in Ridge model\n",
        "possible_alpha = [0.001, 0.01, 0.1, 1, 10, 100, 1000]\n",
        "r2_scores = []\n",
        "for alpha in possible_alpha:\n",
        "  ridge = Ridge(alpha=alpha)\n",
        "  ridge.fit(X_train, y_train)\n",
        "  y_pred_ridge = ridge.predict(X_test)\n",
        "  r2_scores.append(r2_score(y_test, y_pred_ridge))\n",
        "\n",
        "# plot validation curve\n",
        "plt.plot(possible_alpha, r2_scores, marker=\"o\")\n",
        "plt.xlabel(\"alpha\")\n",
        "plt.ylabel(\"R2 score\")\n",
        "plt.title(\"Validation curve for Ridge model\")\n",
        "plt.show()\n"
      ],
      "metadata": {
        "id": "Ni5P-mRgmvOY"
      },
      "execution_count": null,
      "outputs": []
    },
    {
      "cell_type": "code",
      "source": [
        "# train optimal Lasso model\n",
        "lasso = Lasso(alpha=1)\n",
        "lasso.fit(X_train, y_train)\n",
        "\n",
        "# evaluate optimal Lasso model\n",
        "y_pred_lasso = lasso.predict(X_test)\n",
        "print(\"MSE (Lasso model):\", mean_squared_error(y_test, y_pred_lasso))\n",
        "print(\"R2 (Lasso model):\", r2_score(y_test, y_pred_lasso))\n",
        "print(\"Lasso coefficients:\", lasso.coef_)\n"
      ],
      "metadata": {
        "colab": {
          "base_uri": "https://localhost:8080/"
        },
        "id": "GYgPVSsLngmr",
        "outputId": "00efb419-bd2c-473f-f382-52657b43f1e4"
      },
      "execution_count": 21,
      "outputs": [
        {
          "output_type": "stream",
          "name": "stdout",
          "text": [
            "MSE (Lasso model): 39868.880597082534\n",
            "R2 (Lasso model): 0.8996060426437307\n",
            "Lasso coefficients: [47.87486623  6.97865751 -2.27668216 -1.7402076 ]\n"
          ]
        }
      ]
    },
    {
      "cell_type": "code",
      "source": [
        "# train optimal Ridge model\n",
        "ridge = Ridge(alpha=200)\n",
        "ridge.fit(X_train, y_train)\n",
        "\n",
        "# evaluate optimal Ridge model\n",
        "y_pred_ridge = ridge.predict(X_test)\n",
        "print(\"MSE (Ridge model):\", mean_squared_error(y_test, y_pred_ridge))\n",
        "print(\"R2 (Ridge model):\", r2_score(y_test, y_pred_ridge))\n",
        "\n"
      ],
      "metadata": {
        "id": "Ez2FMCV6m5uH"
      },
      "execution_count": null,
      "outputs": []
    },
    {
      "cell_type": "markdown",
      "source": [
        "All three models perform similarly, but regularized models (Ridge & Lasso) slightly outperform the plain Linear Regression. Lasso shows the best performance, with the lowest MSE and highest R².\n",
        "\n",
        "This suggests that:\n",
        "\n",
        "The relationships are mostly linear.\n",
        "\n",
        "There's not much overfitting in the base model.\n",
        "\n",
        "The features have decent predictive power."
      ],
      "metadata": {
        "id": "jo9f5fFto-Ec"
      }
    }
  ]
}