{
  "nbformat": 4,
  "nbformat_minor": 0,
  "metadata": {
    "colab": {
      "provenance": [],
      "authorship_tag": "ABX9TyMylv/oRYMXgua4JiELqOMP",
      "include_colab_link": true
    },
    "kernelspec": {
      "name": "python3",
      "display_name": "Python 3"
    },
    "language_info": {
      "name": "python"
    }
  },
  "cells": [
    {
      "cell_type": "markdown",
      "metadata": {
        "id": "view-in-github",
        "colab_type": "text"
      },
      "source": [
        "<a href=\"https://colab.research.google.com/github/hannamakarova/Andvanced-Analytics-Prediction-Models/blob/main/Dummy_Variables_Credit_Scoring.ipynb\" target=\"_parent\"><img src=\"https://colab.research.google.com/assets/colab-badge.svg\" alt=\"Open In Colab\"/></a>"
      ]
    },
    {
      "cell_type": "markdown",
      "source": [
        "We are working on a credit scoring model for a bank. Information about customers:\n",
        "\n",
        "Employment_Type — the type of employment of the customer (categories Full-time, Part-time, and Unemployed);\n",
        "Marital_Status — the marital status of the customer (categories Single, Married, and Divorced).\n",
        "The target variable is the customer’s credit score (Credit_Score).\n",
        "\n",
        "Create a linear regression model to predict the credit score based on two categorical variables, having previously converted them to numeric values. Derive the coefficients of this model and provide their interpretation."
      ],
      "metadata": {
        "id": "U07su2TXto7N"
      }
    },
    {
      "cell_type": "code",
      "execution_count": 4,
      "metadata": {
        "colab": {
          "base_uri": "https://localhost:8080/"
        },
        "id": "nVLruM4_tkcL",
        "outputId": "ea95442d-5bbf-4f4f-82c0-8415eafbc196"
      },
      "outputs": [
        {
          "output_type": "stream",
          "name": "stdout",
          "text": [
            "   Client_ID  Credit_Score  Employment_Type_Part-time  \\\n",
            "0          1           750                      False   \n",
            "1          2           680                       True   \n",
            "2          3           600                      False   \n",
            "3          4           720                      False   \n",
            "4          5           710                       True   \n",
            "5          6           580                      False   \n",
            "6          7           770                      False   \n",
            "7          8           690                       True   \n",
            "8          9           620                      False   \n",
            "9         10           740                      False   \n",
            "\n",
            "   Employment_Type_Unemployed  Marital_Status_Married  Marital_Status_Single  \n",
            "0                       False                   False                   True  \n",
            "1                       False                    True                  False  \n",
            "2                        True                   False                  False  \n",
            "3                       False                   False                   True  \n",
            "4                       False                    True                  False  \n",
            "5                        True                   False                   True  \n",
            "6                       False                   False                  False  \n",
            "7                       False                    True                  False  \n",
            "8                        True                   False                   True  \n",
            "9                       False                   False                  False  \n"
          ]
        }
      ],
      "source": [
        "import pandas as pd\n",
        "\n",
        "data = pd.DataFrame({\n",
        "    \"Client_ID\": [1, 2, 3, 4, 5, 6, 7, 8, 9, 10],\n",
        "    \"Employment_Type\": [\"Full-time\", \"Part-time\", \"Unemployed\", \"Full-time\", \"Part-time\",\n",
        "                        \"Unemployed\", \"Full-time\", \"Part-time\", \"Unemployed\", \"Full-time\"],\n",
        "    \"Marital_Status\": [\"Single\", \"Married\", \"Divorced\", \"Single\", \"Married\",\n",
        "                       \"Single\", \"Divorced\", \"Married\", \"Single\", \"Divorced\"],\n",
        "    \"Credit_Score\": [750, 680, 600, 720, 710, 580, 770, 690, 620, 740]\n",
        "\n",
        "})\n",
        "\n",
        "data = pd.get_dummies(data, columns=[\"Employment_Type\", \"Marital_Status\"],drop_first= True)\n",
        "print(data)\n"
      ]
    },
    {
      "cell_type": "code",
      "source": [
        "from sklearn.model_selection import train_test_split\n",
        "from sklearn.linear_model import LogisticRegression\n",
        "\n",
        "# prepare data\n",
        "X = data.drop([\"Client_ID\",\"Credit_Score\"], axis=1)\n",
        "y = data[\"Credit_Score\"]\n",
        "\n",
        "# split data into train and test\n",
        "X_train, X_test, y_train, y_test = train_test_split(X, y, test_size=0.3, random_state=2024)\n",
        "\n",
        "# train model\n",
        "model = LogisticRegression()\n",
        "model.fit(X_train, y_train)\n",
        "\n",
        "# make predictions\n",
        "y_pred = model.predict(X_test)\n",
        "\n",
        "# get coefficients\n",
        "coefficients = pd.DataFrame({\n",
        "    \"Feature\": X.columns,\n",
        "    \"Coefficient\": model.coef_[0]\n",
        "}).sort_values(by=\"Coefficient\", ascending=False)\n",
        "\n",
        "print(\"\\nFeature Importance:\")\n",
        "print(coefficients)\n"
      ],
      "metadata": {
        "colab": {
          "base_uri": "https://localhost:8080/"
        },
        "id": "AAuSfN3Cury3",
        "outputId": "01e8d4ea-aeb8-4900-c23e-b0af81b7c1ff"
      },
      "execution_count": 7,
      "outputs": [
        {
          "output_type": "stream",
          "name": "stdout",
          "text": [
            "\n",
            "Feature Importance:\n",
            "                      Feature  Coefficient\n",
            "1  Employment_Type_Unemployed     0.696271\n",
            "3       Marital_Status_Single     0.376050\n",
            "0   Employment_Type_Part-time    -0.150901\n",
            "2      Marital_Status_Married    -0.150901\n"
          ]
        }
      ]
    },
    {
      "cell_type": "code",
      "source": [],
      "metadata": {
        "id": "FZOAjZS1uKLD"
      },
      "execution_count": null,
      "outputs": []
    },
    {
      "cell_type": "markdown",
      "source": [
        "From the results, we can see that:\n",
        "\n",
        "* Unemployed individuals are predicted to have a higher credit score than full-time employed individuals, which is not logically consistent with typical financial assumptions. This could be due to data imbalance, missing variables, or model bias.\n",
        "\n",
        "* Part-time workers have a 15% lower chance (based on a coefficient of –0.151) of receiving a higher credit score compared to full-time workers, suggesting employment type influences credit evaluation.\n",
        "\n",
        "* Single individuals are associated with a higher credit score (+0.376) compared to divorced individuals, while married individuals show a slight decrease (–0.151) in credit score, also relative to divorced individuals.\n",
        "\n"
      ],
      "metadata": {
        "id": "oBTcfU7JwenB"
      }
    }
  ]
}